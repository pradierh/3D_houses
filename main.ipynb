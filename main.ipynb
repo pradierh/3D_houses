{
 "cells": [
  {
   "cell_type": "markdown",
   "metadata": {},
   "source": [
    "# 3D_HOUSES"
   ]
  },
  {
   "cell_type": "markdown",
   "metadata": {},
   "source": [
    "## Import all libraries"
   ]
  },
  {
   "cell_type": "code",
   "execution_count": 17,
   "metadata": {},
   "outputs": [],
   "source": [
    "from glob import glob\n",
    "from typing import Tuple, List\n",
    "import natsort\n",
    "import numpy as np\n",
    "import matplotlib.pyplot as plt\n",
    "from mayavi import mlab\n",
    "\n",
    "import geopandas as gpd\n",
    "import rasterio\n",
    "import rioxarray as rxr\n",
    "from shapely.geometry import Point, Polygon\n",
    "from shapely.ops import cascaded_union\n",
    "\n",
    "%matplotlib inline"
   ]
  },
  {
   "cell_type": "markdown",
   "metadata": {
    "tags": []
   },
   "source": [
    "## Global Variables"
   ]
  },
  {
   "cell_type": "code",
   "execution_count": 21,
   "metadata": {},
   "outputs": [],
   "source": [
    "address = \"Sint-Pietersplein%209,Gent\"\n",
    "\n",
    "DSM_path = \"/Volumes/Samsung T7/DSM/**/*.tif\"\n",
    "DTM_path =  \"/Volumes/Samsung T7/DTM/**/*.tif\"\n",
    "\n",
    "shp_paths = [\"/Volumes/Samsung T7/CADASTRE DATA/Belgium_L72_2020/Bpn_CaBu.shp\", \"/Volumes/Samsung T7/CADASTRE DATA/Belgium_L72_2020/Bpn_ReBu.shp\"]"
   ]
  },
  {
   "cell_type": "markdown",
   "metadata": {},
   "source": [
    "## Create a dictionary of GTiff's paths and bounds"
   ]
  },
  {
   "cell_type": "code",
   "execution_count": 22,
   "metadata": {},
   "outputs": [],
   "source": [
    "def load_data(DSM_path:str, DTM_path:str) -> dict:\n",
    "    \n",
    "    data = {}\n",
    "    data['DSM_list'] = natsort.natsorted([file for file in glob(DSM_path, recursive=True)])\n",
    "    data['DTM_list'] = natsort.natsorted([file for file in glob(DTM_path, recursive=True)])\n",
    "    data['bounds'] = []\n",
    "    \n",
    "    for path in data['DSM_list']:\n",
    "        with rasterio.open(path, driver=\"GTiff\") as tif:\n",
    "            data['bounds'].append(np.array(tif.bounds))\n",
    "\n",
    "    return data"
   ]
  },
  {
   "cell_type": "code",
   "execution_count": 23,
   "metadata": {},
   "outputs": [
    {
     "data": {
      "text/plain": [
       "{'DSM_list': ['/Volumes/Samsung T7/DSM/DHMVIIDSMRAS1m_k01/GeoTIFF/DHMVIIDSMRAS1m_k01.tif',\n",
       "  '/Volumes/Samsung T7/DSM/DHMVIIDSMRAS1m_k02/GeoTIFF/DHMVIIDSMRAS1m_k02.tif',\n",
       "  '/Volumes/Samsung T7/DSM/DHMVIIDSMRAS1m_k03/GeoTIFF/DHMVIIDSMRAS1m_k03.tif',\n",
       "  '/Volumes/Samsung T7/DSM/DHMVIIDSMRAS1m_k04/GeoTIFF/DHMVIIDSMRAS1m_k04.tif',\n",
       "  '/Volumes/Samsung T7/DSM/DHMVIIDSMRAS1m_k05/GeoTIFF/DHMVIIDSMRAS1m_k05.tif',\n",
       "  '/Volumes/Samsung T7/DSM/DHMVIIDSMRAS1m_k06/GeoTIFF/DHMVIIDSMRAS1m_k06.tif',\n",
       "  '/Volumes/Samsung T7/DSM/DHMVIIDSMRAS1m_k07/GeoTIFF/DHMVIIDSMRAS1m_k07.tif',\n",
       "  '/Volumes/Samsung T7/DSM/DHMVIIDSMRAS1m_k15/GeoTIFF/DHMVIIDSMRAS1m_k15.tif',\n",
       "  '/Volumes/Samsung T7/DSM/DHMVIIDSMRAS1m_k22/GeoTIFF/DHMVIIDSMRAS1m_k22.tif'],\n",
       " 'DTM_list': ['/Volumes/Samsung T7/DTM/DHMVIIDTMRAS1m_k01/GeoTIFF/DHMVIIDTMRAS1m_k01.tif',\n",
       "  '/Volumes/Samsung T7/DTM/DHMVIIDTMRAS1m_k02/GeoTIFF/DHMVIIDTMRAS1m_k02.tif',\n",
       "  '/Volumes/Samsung T7/DTM/DHMVIIDTMRAS1m_k03/GeoTIFF/DHMVIIDTMRAS1m_k03.tif',\n",
       "  '/Volumes/Samsung T7/DTM/DHMVIIDTMRAS1m_k04/GeoTIFF/DHMVIIDTMRAS1m_k04.tif',\n",
       "  '/Volumes/Samsung T7/DTM/DHMVIIDTMRAS1m_k05/GeoTIFF/DHMVIIDTMRAS1m_k05.tif',\n",
       "  '/Volumes/Samsung T7/DTM/DHMVIIDTMRAS1m_k06/GeoTIFF/DHMVIIDTMRAS1m_k06.tif',\n",
       "  '/Volumes/Samsung T7/DTM/DHMVIIDTMRAS1m_k07/GeoTIFF/DHMVIIDTMRAS1m_k07.tif',\n",
       "  '/Volumes/Samsung T7/DTM/DHMVIIDTMRAS1m_k15/GeoTIFF/DHMVIIDTMRAS1m_k15.tif',\n",
       "  '/Volumes/Samsung T7/DTM/DHMVIIDTMRAS1m_k22/GeoTIFF/DHMVIIDTMRAS1m_k22.tif'],\n",
       " 'bounds': [array([145000., 238000., 162000., 247000.]),\n",
       "  array([162000., 238000., 194000., 250000.]),\n",
       "  array([194000., 238000., 206000., 248000.]),\n",
       "  array([ 53000., 218000.,  66000., 225500.]),\n",
       "  array([ 66000., 218000.,  98000., 232000.]),\n",
       "  array([ 98000., 218000., 130000., 227000.]),\n",
       "  array([130000., 218000., 162000., 238000.]),\n",
       "  array([130000., 198000., 162000., 218000.]),\n",
       "  array([ 98000., 178000., 130000., 198000.])]}"
      ]
     },
     "execution_count": 23,
     "metadata": {},
     "output_type": "execute_result"
    }
   ],
   "source": [
    "data = load_data(DSM_path, DTM_path)\n",
    "data"
   ]
  },
  {
   "cell_type": "markdown",
   "metadata": {},
   "source": [
    "## Fetching the L_72 coordinates from the API with address"
   ]
  },
  {
   "cell_type": "code",
   "execution_count": null,
   "metadata": {},
   "outputs": [],
   "source": [
    "def fetch_coord(address:str)  -> Point:\n",
    "    pass"
   ]
  },
  {
   "cell_type": "code",
   "execution_count": 19,
   "metadata": {},
   "outputs": [],
   "source": [
    "coord = Point(104994.91, 192612.04) #https://loc.geopunt.be/v4/Location?q=Sint-Pietersplein%209,gent\n",
    "coord = Point(104942.33, 192558.11) # https://loc.geopunt.be/v4/Location?q=Sint-Pietersplein%2016,gent\n",
    "coord3 = Point(152898.38, 212199.67) # https://loc.geopunt.be/v4/Location?q=Lange%20Nieuwstraat%2073,Antwerpen"
   ]
  },
  {
   "cell_type": "markdown",
   "metadata": {},
   "source": [
    "## Find the relevant GTiff file containing the coordinates"
   ]
  },
  {
   "cell_type": "code",
   "execution_count": 20,
   "metadata": {},
   "outputs": [],
   "source": [
    "def find_tif(data:dict, coord:Point) -> Tuple[str]:\n",
    "    x, y = coord.xy\n",
    "    for tif_index, bounds in enumerate(data['bounds']):\n",
    "        x_min, y_min, x_max, y_max = bounds\n",
    "        if (x_min < x < x_max) and (y_min < y < y_max):\n",
    "            return tif_index"
   ]
  },
  {
   "cell_type": "code",
   "execution_count": 21,
   "metadata": {},
   "outputs": [
    {
     "data": {
      "text/plain": [
       "8"
      ]
     },
     "execution_count": 21,
     "metadata": {},
     "output_type": "execute_result"
    }
   ],
   "source": [
    "tif_index = find_tif(data, coord)\n",
    "tif_index"
   ]
  },
  {
   "cell_type": "markdown",
   "metadata": {},
   "source": [
    "## Find the polygon containing the coordinates"
   ]
  },
  {
   "cell_type": "code",
   "execution_count": 25,
   "metadata": {},
   "outputs": [],
   "source": [
    "def find_polygon(coord:Point, shp_paths:List[str]):\n",
    "\n",
    "    for path in shp_paths:\n",
    "        try:\n",
    "            check_poly = gpd.read_file(path, mask=coord).geometry[0]\n",
    "            polys = [poly for poly in gpd.read_file(path, mask=coord).geometry]\n",
    "            poly = cascaded_union(polys)\n",
    "            break\n",
    "        except:\n",
    "            continue\n",
    "    return poly"
   ]
  },
  {
   "cell_type": "code",
   "execution_count": 26,
   "metadata": {},
   "outputs": [
    {
     "data": {
      "image/svg+xml": [
       "<svg xmlns=\"http://www.w3.org/2000/svg\" xmlns:xlink=\"http://www.w3.org/1999/xlink\" width=\"100.0\" height=\"100.0\" viewBox=\"104931.87193741211 192551.73569912545 13.953516055786167 20.148806954035535\" preserveAspectRatio=\"xMinYMin meet\"><g transform=\"matrix(1,0,0,-1,0,385123.62020520493)\"><path fill-rule=\"evenodd\" fill=\"#66cc99\" stroke=\"#555555\" stroke-width=\"0.4029761390807107\" opacity=\"0.6\" d=\"M 104944.6247676961,192563.89404063113 L 104943.92977073559,192552.48195123486 L 104934.75681593937,192552.98683218937 L 104933.88282006599,192553.0334351752 L 104934.13469950495,192557.7663350338 L 104934.4649591466,192563.97123484407 L 104932.61818952153,192564.24625355192 L 104932.96889664308,192570.83875336964 L 104932.97963330397,192571.13825397007 L 104939.50561604174,192570.903785727 L 104945.07920135849,192570.70402963646 L 104944.68447779468,192564.7934392132 L 104944.62506837911,192563.8996406272 L 104944.6247676961,192563.89404063113 z\" /></g></svg>"
      ],
      "text/plain": [
       "<shapely.geometry.polygon.Polygon at 0x13ba016d0>"
      ]
     },
     "execution_count": 26,
     "metadata": {},
     "output_type": "execute_result"
    }
   ],
   "source": [
    "poly = find_polygon(coord2, shp_paths)\n",
    "poly"
   ]
  },
  {
   "cell_type": "markdown",
   "metadata": {},
   "source": [
    "## Crop DSM & DTM"
   ]
  },
  {
   "cell_type": "code",
   "execution_count": 27,
   "metadata": {},
   "outputs": [],
   "source": [
    "def crop_tif(data, tif_index, poly, shape_cut=False):\n",
    "    \n",
    "    DSM = rxr.open_rasterio(data['DSM_list'][tif_index],masked=True)\n",
    "    DTM = rxr.open_rasterio(data['DTM_list'][tif_index],masked=True)\n",
    "\n",
    "    left, bottom, right, top = poly.bounds\n",
    "    DSM_clip = DSM.rio.clip_box(left, bottom, right, top)\n",
    "    DTM_clip = DTM.rio.clip_box(left, bottom, right, top)\n",
    "\n",
    "    if shape_cut:\n",
    "        DSM_clip = DSM_clip.rio.clip([poly.__geo_interface__])\n",
    "        DSM_clip = np.nan_to_num(DSM_clip, nan=0)\n",
    "\n",
    "        DTM_clip = DTM_clip.rio.clip([poly.__geo_interface__])\n",
    "        DTM_clip = np.nan_to_num(DTM_clip, nan=0)\n",
    "    \n",
    "    DSM.close()\n",
    "    DTM.close()\n",
    "    \n",
    "    return DSM_clip, DTM_clip"
   ]
  },
  {
   "cell_type": "code",
   "execution_count": 28,
   "metadata": {},
   "outputs": [],
   "source": [
    "DSM_clip, DTM_clip = crop_tif(data, tif_index, poly, shape_cut=True)"
   ]
  },
  {
   "cell_type": "markdown",
   "metadata": {},
   "source": [
    "## Create CHM from DSM & DTM"
   ]
  },
  {
   "cell_type": "code",
   "execution_count": 29,
   "metadata": {},
   "outputs": [],
   "source": [
    "def CHMer(DSM_clip, \n",
    "          DTM_clip):\n",
    "    return DSM_clip - DTM_clip"
   ]
  },
  {
   "cell_type": "code",
   "execution_count": 30,
   "metadata": {},
   "outputs": [],
   "source": [
    "CHM = CHMer(DSM_clip, DTM_clip)"
   ]
  },
  {
   "cell_type": "markdown",
   "metadata": {},
   "source": [
    "## 3D Rendering"
   ]
  },
  {
   "cell_type": "code",
   "execution_count": 31,
   "metadata": {},
   "outputs": [],
   "source": [
    "def render_3D(CHM_clip):\n",
    "    arr = CHM_clip.squeeze().data\n",
    "    arr = np.pad(arr, [(2, ), (2, )], mode='constant')\n",
    "    mlab.figure(size=(640, 800), bgcolor=(0.16, 0.28, 0.46))\n",
    "    surf = mlab.surf(arr)\n",
    "    mlab.zlabel(\"Height\")\n",
    "    mlab.show()"
   ]
  },
  {
   "cell_type": "code",
   "execution_count": 32,
   "metadata": {},
   "outputs": [],
   "source": [
    "render_3D(CHM)"
   ]
  },
  {
   "cell_type": "markdown",
   "metadata": {},
   "source": [
    "## 3D Rendering inline"
   ]
  },
  {
   "cell_type": "code",
   "execution_count": 33,
   "metadata": {},
   "outputs": [
    {
     "name": "stdout",
     "output_type": "stream",
     "text": [
      "Notebook initialized with ipy backend.\n"
     ]
    },
    {
     "data": {
      "application/vnd.jupyter.widget-view+json": {
       "model_id": "20d0b5fbd1f948f5a460dc99e96fe5d6",
       "version_major": 2,
       "version_minor": 0
      },
      "text/plain": [
       "Image(value=b'\\x89PNG\\r\\n\\x1a\\n\\x00\\x00\\x00\\rIHDR\\x00\\x00\\x02\\x80\\x00\\x00\\x03 \\x08\\x02\\x00\\x00\\x00<\\xc4D.\\x00\\…"
      ]
     },
     "metadata": {},
     "output_type": "display_data"
    }
   ],
   "source": [
    "mlab.init_notebook()\n",
    "def render_3D_inline(CHM_clip):\n",
    "    arr = CHM_clip.squeeze().data\n",
    "    arr = np.pad(arr, [(2, ), (2, )], mode='constant')\n",
    "    mlab.figure(size=(640, 800), bgcolor=(0.16, 0.28, 0.46))\n",
    "    surf = mlab.surf(arr)\n",
    "    mlab.zlabel(\"Height\")\n",
    "    return surf\n",
    "plot = render_3D_inline(CHM)\n",
    "plot"
   ]
  },
  {
   "cell_type": "code",
   "execution_count": null,
   "metadata": {},
   "outputs": [],
   "source": []
  }
 ],
 "metadata": {
  "kernelspec": {
   "display_name": "Python 3",
   "language": "python",
   "name": "python3"
  },
  "language_info": {
   "codemirror_mode": {
    "name": "ipython",
    "version": 3
   },
   "file_extension": ".py",
   "mimetype": "text/x-python",
   "name": "python",
   "nbconvert_exporter": "python",
   "pygments_lexer": "ipython3",
   "version": "3.8.4rc1"
  }
 },
 "nbformat": 4,
 "nbformat_minor": 4
}
