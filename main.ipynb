{
 "cells": [
  {
   "cell_type": "markdown",
   "metadata": {},
   "source": [
    "# 3D_HOUSES"
   ]
  },
  {
   "cell_type": "markdown",
   "metadata": {
    "tags": []
   },
   "source": [
    "## Import all libraries"
   ]
  },
  {
   "cell_type": "code",
   "execution_count": null,
   "metadata": {
    "tags": []
   },
   "outputs": [],
   "source": [
    "from glob import glob\n",
    "from typing import Tuple, List\n",
    "import natsort\n",
    "import numpy as np\n",
    "import matplotlib.pyplot as plt\n",
    "import ipywidgets as widgets\n",
    "import plotly.graph_objects as go\n",
    "import plotly.io as pio \n",
    "import pandas as pd\n",
    "\n",
    "import json\n",
    "import requests\n",
    "\n",
    "import geopandas as gpd\n",
    "import rasterio\n",
    "import rioxarray as rxr\n",
    "from shapely.geometry import Point, Polygon\n",
    "from shapely.ops import cascaded_union"
   ]
  },
  {
   "cell_type": "markdown",
   "metadata": {},
   "source": [
    "## Global Variables"
   ]
  },
  {
   "cell_type": "code",
   "execution_count": null,
   "metadata": {
    "tags": []
   },
   "outputs": [],
   "source": [
    "DSM_path = \"/Volumes/Samsung T7/DSM/**/*.tif\"\n",
    "DTM_path =  \"/Volumes/Samsung T7/DTM/**/*.tif\"\n",
    "\n",
    "shp_paths = [\"/Volumes/Samsung T7/CADASTRE DATA/Belgium_L72_2020/Bpn_CaBu.shp\", \"/Volumes/Samsung T7/CADASTRE DATA/Belgium_L72_2020/Bpn_ReBu.shp\"]\n",
    "\n",
    "property = {}"
   ]
  },
  {
   "cell_type": "markdown",
   "metadata": {},
   "source": [
    "## Create a dictionary of GTiff's paths and bounds"
   ]
  },
  {
   "cell_type": "code",
   "execution_count": null,
   "metadata": {
    "tags": []
   },
   "outputs": [],
   "source": [
    "def load_data(DSM_path:str, DTM_path:str) -> dict:\n",
    "    \n",
    "    data = {}\n",
    "    data['DSM_list'] = natsort.natsorted([file for file in glob(DSM_path, recursive=True)])\n",
    "    data['DTM_list'] = natsort.natsorted([file for file in glob(DTM_path, recursive=True)])\n",
    "    data['bounds'] = []\n",
    "    \n",
    "    for path in data['DSM_list']:\n",
    "        with rasterio.open(path, driver=\"GTiff\") as tif:\n",
    "            data['bounds'].append(np.array(tif.bounds))\n",
    "\n",
    "    return data"
   ]
  },
  {
   "cell_type": "markdown",
   "metadata": {},
   "source": [
    "## Fetching the L_72 coordinates from the API with address [CEREN]"
   ]
  },
  {
   "cell_type": "code",
   "execution_count": null,
   "metadata": {
    "tags": []
   },
   "outputs": [],
   "source": [
    "def fetch_coord(address:str)  -> Point:\n",
    "    \n",
    "    response = requests.get(f\"https://loc.geopunt.be/v4/location?q={address}\")\n",
    "    data = json.loads(response.content)\n",
    "    \n",
    "    long_x_lambert72 = data['LocationResult'][0]['Location']['X_Lambert72']\n",
    "    lat_y_lambert72 = data['LocationResult'][0]['Location']['Y_Lambert72']\n",
    "    \n",
    "    return Point(float(long_x_lambert72),float(lat_y_lambert72))"
   ]
  },
  {
   "cell_type": "markdown",
   "metadata": {},
   "source": [
    "## Find the relevant GTiff file containing the coordinates"
   ]
  },
  {
   "cell_type": "code",
   "execution_count": null,
   "metadata": {
    "tags": []
   },
   "outputs": [],
   "source": [
    "def find_tif(data:dict, coord:Point) -> Tuple[str]:\n",
    "    x, y = coord.xy\n",
    "    for tif_index, bounds in enumerate(data['bounds']):\n",
    "        x_min, y_min, x_max, y_max = bounds\n",
    "        if (x_min < x < x_max) and (y_min < y < y_max):\n",
    "            return tif_index"
   ]
  },
  {
   "cell_type": "markdown",
   "metadata": {},
   "source": [
    "## Find the polygon containing the coordinates"
   ]
  },
  {
   "cell_type": "code",
   "execution_count": null,
   "metadata": {
    "tags": []
   },
   "outputs": [],
   "source": [
    "def find_polygon(coord:Point, shp_paths:List[str]):\n",
    "\n",
    "    for path in shp_paths:\n",
    "        try:\n",
    "            _ = gpd.read_file(path, mask=coord).geometry[0]\n",
    "            polys = [poly for poly in gpd.read_file(path, mask=coord).geometry]\n",
    "            poly = cascaded_union(polys)\n",
    "            break\n",
    "        except:\n",
    "            continue\n",
    "    return poly"
   ]
  },
  {
   "cell_type": "markdown",
   "metadata": {},
   "source": [
    "## Crop DSM & DTM"
   ]
  },
  {
   "cell_type": "code",
   "execution_count": null,
   "metadata": {
    "tags": []
   },
   "outputs": [],
   "source": [
    "def crop_tif(data, tif_index, poly, shape_cut=dropdown_cut.value):\n",
    "    \n",
    "    DSM = rxr.open_rasterio(data['DSM_list'][tif_index],masked=True)\n",
    "    DTM = rxr.open_rasterio(data['DTM_list'][tif_index],masked=True)\n",
    "\n",
    "    left, bottom, right, top = poly.bounds\n",
    "    DSM_clip = DSM.rio.clip_box(left, bottom, right, top)\n",
    "    DTM_clip = DTM.rio.clip_box(left, bottom, right, top)\n",
    "\n",
    "    if shape_cut:\n",
    "        DSM_clip = DSM_clip.rio.clip([poly.__geo_interface__])\n",
    "        DSM_clip = np.nan_to_num(DSM_clip, nan=0)\n",
    "\n",
    "        DTM_clip = DTM_clip.rio.clip([poly.__geo_interface__])\n",
    "        DTM_clip = np.nan_to_num(DTM_clip, nan=0)\n",
    "    \n",
    "    DSM.close()\n",
    "    DTM.close()\n",
    "    \n",
    "    return DSM_clip, DTM_clip"
   ]
  },
  {
   "cell_type": "markdown",
   "metadata": {},
   "source": [
    "## Create CHM from DSM & DTM"
   ]
  },
  {
   "cell_type": "code",
   "execution_count": null,
   "metadata": {
    "tags": []
   },
   "outputs": [],
   "source": [
    "def CHMer(DSM_clip, \n",
    "          DTM_clip):\n",
    "    return DSM_clip - DTM_clip"
   ]
  },
  {
   "cell_type": "markdown",
   "metadata": {},
   "source": [
    "## 3D Rendering [CORENTIN]"
   ]
  },
  {
   "cell_type": "code",
   "execution_count": null,
   "metadata": {
    "tags": []
   },
   "outputs": [],
   "source": [
    "def render_3D_2(CHM_clip):\n",
    "    '''\n",
    "    ©Harold, thanks for the tip ! \n",
    "    '''\n",
    "    pio.renderers.default='browser' \n",
    "    arr = CHM_clip.squeeze().data\n",
    "    arr = np.pad(arr, [(5, ), (5, )], mode='constant')\n",
    "    clipped_df = pd.DataFrame(arr)\n",
    "\n",
    "    fig = go.Figure(data=[go.Surface(z=clipped_df, colorscale='RdBu')], \n",
    "                    layout=go.Layout(\n",
    "                        annotations=[\n",
    "                            go.layout.Annotation(\n",
    "                                text=f\"Estimated surface area : {property['Estimated surface area']}<br>Estimated Max number of floors : {property['Estimated Max number of floors']}<br>Upper limit of living area : {property['Upper limit of living area']} m2\",\n",
    "                                align='left',\n",
    "                                showarrow=False,\n",
    "                                xref='paper',\n",
    "                                yref='paper',\n",
    "                                x=0.1,\n",
    "                                y=1)]))\n",
    "    \n",
    "    fig.update_traces(contours_z=dict(show=True, usecolormap=True,\n",
    "                                      highlightcolor=\"turquoise\", project_z=True))\n",
    "    fig.update_layout(title=(dropdown_address.value), autosize=False,\n",
    "                      scene_camera_eye=dict(x=1.87, y=0.88, z=-0.64),\n",
    "                      width=700, height=700,\n",
    "                      margin=dict(l=65, r=50, b=65, t=90)\n",
    "    )\n",
    "    \n",
    "    fig.show()"
   ]
  },
  {
   "cell_type": "markdown",
   "metadata": {},
   "source": [
    "## 3D Rendering [HUGO]"
   ]
  },
  {
   "cell_type": "code",
   "execution_count": null,
   "metadata": {},
   "outputs": [],
   "source": [
    "from mayavi import mlab\n",
    "def render_3D(CHM_clip):\n",
    "    arr = CHM_clip.squeeze().data\n",
    "    arr = np.pad(arr, [(2, ), (2, )], mode='constant')\n",
    "    mlab.figure(size=(640, 800), bgcolor=(0.16, 0.28, 0.46))\n",
    "    surf = mlab.surf(arr)\n",
    "    mlab.zlabel(\"Height\")\n",
    "    mlab.show()"
   ]
  },
  {
   "cell_type": "markdown",
   "metadata": {
    "tags": []
   },
   "source": [
    "## Widgets"
   ]
  },
  {
   "cell_type": "code",
   "execution_count": null,
   "metadata": {
    "tags": []
   },
   "outputs": [],
   "source": [
    "dropdown_address = widgets.Dropdown(\n",
    "    options=['Sint-Pietersplein 9 Gent 9000', \n",
    "            'Sint-Pietersplein 16 Gent 9000', \n",
    "            'Lange Nieuwstraat 73 Antwerpen 2000',\n",
    "            'Abrahamstraat 15 Gent 9000',\n",
    "            'Quinten Matsijslei 25 Antwerpen 2018'],\n",
    "    value='Quinten Matsijslei 25 Antwerpen 2018',\n",
    "    description='Address:',\n",
    "    disabled=False,\n",
    ")\n",
    "\n",
    "button = widgets.Button(\n",
    "    description='3D Plot',\n",
    "    disabled=False,\n",
    "    button_style='info', # 'success', 'info', 'warning', 'danger' or ''\n",
    "    tooltip='Click me',\n",
    "    icon='cube'\n",
    ")\n",
    "\n",
    "dropdown_cut = widgets.Dropdown(\n",
    "    options=[('Polygon clipping', True), ('Square clipping', False)],\n",
    "    value=True,\n",
    "    description='Clip:',\n",
    "    disabled=False,\n",
    ")\n",
    "\n",
    "dropdown_renderer = widgets.Dropdown(\n",
    "    options=[('Mayavi', render_3D), ('Plotly', render_3D_2)],\n",
    "    value=render_3D_2,\n",
    "    description='Renderer:',\n",
    "    disabled=False,\n",
    ")\n",
    "\n",
    "def main(b):\n",
    "    data = load_data(DSM_path, DTM_path)\n",
    "    coord = fetch_coord(dropdown_address.value)\n",
    "    tif_index = find_tif(data, coord)\n",
    "    poly = find_polygon(coord, shp_paths)\n",
    "    DSM_clip, DTM_clip = crop_tif(data, tif_index, poly, shape_cut=dropdown_cut.value)\n",
    "    CHM = CHMer(DSM_clip, DTM_clip)\n",
    "    property[\"Max_height\"] = f\"{np.max(CHM.data)} m\"\n",
    "    property[\"Estimated surface area\"] = f\"{int(poly.area * 0.7)} m2\" # Roughly 70% of built-area is living area https://www.quora.com/How-do-I-calculate-the-number-of-floors-to-be-built\n",
    "    property[\"Estimated Max number of floors\"] = f\"{int(np.max(CHM.data) / 3.3)} storey building\"\n",
    "    property[\"Upper limit of living area\"] = f\"{int(poly.area * 0.7) * int(np.max(CHM.data) / 3.3)}\"\n",
    "    dropdown_renderer.value(CHM)\n",
    "    \n",
    "button.on_click(main)\n",
    "\n",
    "items = [dropdown_address, dropdown_cut, dropdown_renderer, button]"
   ]
  },
  {
   "cell_type": "markdown",
   "metadata": {
    "tags": []
   },
   "source": [
    "## Showcasing MVP"
   ]
  },
  {
   "cell_type": "code",
   "execution_count": null,
   "metadata": {
    "tags": []
   },
   "outputs": [],
   "source": [
    "widgets.Box(items)"
   ]
  },
  {
   "cell_type": "code",
   "execution_count": null,
   "metadata": {},
   "outputs": [],
   "source": []
  }
 ],
 "metadata": {
  "kernelspec": {
   "display_name": "Python 3",
   "language": "python",
   "name": "python3"
  },
  "language_info": {
   "codemirror_mode": {
    "name": "ipython",
    "version": 3
   },
   "file_extension": ".py",
   "mimetype": "text/x-python",
   "name": "python",
   "nbconvert_exporter": "python",
   "pygments_lexer": "ipython3",
   "version": "3.8.4rc1"
  }
 },
 "nbformat": 4,
 "nbformat_minor": 4
}
