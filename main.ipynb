{
 "cells": [
  {
   "cell_type": "markdown",
   "metadata": {},
   "source": [
    "# 3D_HOUSES"
   ]
  },
  {
   "cell_type": "markdown",
   "metadata": {
    "tags": []
   },
   "source": [
    "## Import all libraries"
   ]
  },
  {
   "cell_type": "code",
   "execution_count": 110,
   "metadata": {
    "tags": []
   },
   "outputs": [],
   "source": [
    "from glob import glob\n",
    "from typing import Tuple, List\n",
    "import natsort\n",
    "import numpy as np\n",
    "import matplotlib.pyplot as plt\n",
    "import ipywidgets as widgets\n",
    "import plotly.graph_objects as go\n",
    "import plotly.io as pio \n",
    "import pandas as pd\n",
    "\n",
    "import json\n",
    "import requests\n",
    "\n",
    "import geopandas as gpd\n",
    "import rasterio\n",
    "import rioxarray as rxr\n",
    "from shapely.geometry import Point, Polygon\n",
    "from shapely.ops import cascaded_union"
   ]
  },
  {
   "cell_type": "markdown",
   "metadata": {
    "tags": []
   },
   "source": [
    "## Widgets"
   ]
  },
  {
   "cell_type": "code",
   "execution_count": 111,
   "metadata": {
    "tags": []
   },
   "outputs": [],
   "source": [
    "dropdown_address = widgets.Dropdown(\n",
    "    options=['Sint-Pietersplein 9 Gent 9000', \n",
    "            'Sint-Pietersplein 16 Gent 9000', \n",
    "            'Lange Nieuwstraat 73 Antwerpen 2000',\n",
    "            'Abrahamstraat 15 Gent 9000',\n",
    "            'Quinten Matsijslei 25 Antwerpen 2018'],\n",
    "    value='Quinten Matsijslei 25 Antwerpen 2018',\n",
    "    description='Address:',\n",
    "    disabled=False,\n",
    ")\n",
    "\n",
    "button = widgets.Button(\n",
    "    description='3D Plot',\n",
    "    disabled=False,\n",
    "    button_style='info', # 'success', 'info', 'warning', 'danger' or ''\n",
    "    tooltip='Click me',\n",
    "    icon='cube'\n",
    ")\n",
    "\n",
    "dropdown_cut = widgets.Dropdown(\n",
    "    options=[('Polygon clipping', True), ('Square clipping', False)],\n",
    "    value=True,\n",
    "    description='Clip:',\n",
    "    disabled=False,\n",
    ")\n",
    "\n",
    "dropdown_renderer = widgets.Dropdown(\n",
    "    options=[('Mayavi', render_3D), ('Plotly', render_3D_2)],\n",
    "    value=render_3D_2,\n",
    "    description='Renderer:',\n",
    "    disabled=False,\n",
    ")\n",
    "\n",
    "def main(b):\n",
    "    data = load_data(DSM_path, DTM_path)\n",
    "    coord = fetch_coord(dropdown_address.value)\n",
    "    tif_index = find_tif(data, coord)\n",
    "    poly = find_polygon(coord, shp_paths)\n",
    "    DSM_clip, DTM_clip = crop_tif(data, tif_index, poly, shape_cut=dropdown_cut.value)\n",
    "    CHM = CHMer(DSM_clip, DTM_clip)\n",
    "    dropdown_renderer.value(CHM)\n",
    "    \n",
    "button.on_click(main)\n",
    "\n",
    "items = [dropdown_address, dropdown_cut, dropdown_renderer, button]"
   ]
  },
  {
   "cell_type": "markdown",
   "metadata": {},
   "source": [
    "## Paths"
   ]
  },
  {
   "cell_type": "code",
   "execution_count": 112,
   "metadata": {
    "tags": []
   },
   "outputs": [],
   "source": [
    "DSM_path = \"/Volumes/Samsung T7/DSM/**/*.tif\"\n",
    "DTM_path =  \"/Volumes/Samsung T7/DTM/**/*.tif\"\n",
    "\n",
    "shp_paths = [\"/Volumes/Samsung T7/CADASTRE DATA/Belgium_L72_2020/Bpn_CaBu.shp\", \"/Volumes/Samsung T7/CADASTRE DATA/Belgium_L72_2020/Bpn_ReBu.shp\"]"
   ]
  },
  {
   "cell_type": "markdown",
   "metadata": {},
   "source": [
    "## Create a dictionary of GTiff's paths and bounds"
   ]
  },
  {
   "cell_type": "code",
   "execution_count": 113,
   "metadata": {
    "tags": []
   },
   "outputs": [],
   "source": [
    "def load_data(DSM_path:str, DTM_path:str) -> dict:\n",
    "    \n",
    "    data = {}\n",
    "    data['DSM_list'] = natsort.natsorted([file for file in glob(DSM_path, recursive=True)])\n",
    "    data['DTM_list'] = natsort.natsorted([file for file in glob(DTM_path, recursive=True)])\n",
    "    data['bounds'] = []\n",
    "    \n",
    "    for path in data['DSM_list']:\n",
    "        with rasterio.open(path, driver=\"GTiff\") as tif:\n",
    "            data['bounds'].append(np.array(tif.bounds))\n",
    "\n",
    "    return data"
   ]
  },
  {
   "cell_type": "code",
   "execution_count": 114,
   "metadata": {},
   "outputs": [
    {
     "data": {
      "text/plain": [
       "{'DSM_list': ['/Volumes/Samsung T7/DSM/DHMVIIDSMRAS1m_k01/GeoTIFF/DHMVIIDSMRAS1m_k01.tif',\n",
       "  '/Volumes/Samsung T7/DSM/DHMVIIDSMRAS1m_k02/GeoTIFF/DHMVIIDSMRAS1m_k02.tif',\n",
       "  '/Volumes/Samsung T7/DSM/DHMVIIDSMRAS1m_k03/GeoTIFF/DHMVIIDSMRAS1m_k03.tif',\n",
       "  '/Volumes/Samsung T7/DSM/DHMVIIDSMRAS1m_k04/GeoTIFF/DHMVIIDSMRAS1m_k04.tif',\n",
       "  '/Volumes/Samsung T7/DSM/DHMVIIDSMRAS1m_k05/GeoTIFF/DHMVIIDSMRAS1m_k05.tif',\n",
       "  '/Volumes/Samsung T7/DSM/DHMVIIDSMRAS1m_k06/GeoTIFF/DHMVIIDSMRAS1m_k06.tif',\n",
       "  '/Volumes/Samsung T7/DSM/DHMVIIDSMRAS1m_k07/GeoTIFF/DHMVIIDSMRAS1m_k07.tif',\n",
       "  '/Volumes/Samsung T7/DSM/DHMVIIDSMRAS1m_k15/GeoTIFF/DHMVIIDSMRAS1m_k15.tif',\n",
       "  '/Volumes/Samsung T7/DSM/DHMVIIDSMRAS1m_k22/GeoTIFF/DHMVIIDSMRAS1m_k22.tif'],\n",
       " 'DTM_list': ['/Volumes/Samsung T7/DTM/DHMVIIDTMRAS1m_k01/GeoTIFF/DHMVIIDTMRAS1m_k01.tif',\n",
       "  '/Volumes/Samsung T7/DTM/DHMVIIDTMRAS1m_k02/GeoTIFF/DHMVIIDTMRAS1m_k02.tif',\n",
       "  '/Volumes/Samsung T7/DTM/DHMVIIDTMRAS1m_k03/GeoTIFF/DHMVIIDTMRAS1m_k03.tif',\n",
       "  '/Volumes/Samsung T7/DTM/DHMVIIDTMRAS1m_k04/GeoTIFF/DHMVIIDTMRAS1m_k04.tif',\n",
       "  '/Volumes/Samsung T7/DTM/DHMVIIDTMRAS1m_k05/GeoTIFF/DHMVIIDTMRAS1m_k05.tif',\n",
       "  '/Volumes/Samsung T7/DTM/DHMVIIDTMRAS1m_k06/GeoTIFF/DHMVIIDTMRAS1m_k06.tif',\n",
       "  '/Volumes/Samsung T7/DTM/DHMVIIDTMRAS1m_k07/GeoTIFF/DHMVIIDTMRAS1m_k07.tif',\n",
       "  '/Volumes/Samsung T7/DTM/DHMVIIDTMRAS1m_k15/GeoTIFF/DHMVIIDTMRAS1m_k15.tif',\n",
       "  '/Volumes/Samsung T7/DTM/DHMVIIDTMRAS1m_k22/GeoTIFF/DHMVIIDTMRAS1m_k22.tif'],\n",
       " 'bounds': [array([145000., 238000., 162000., 247000.]),\n",
       "  array([162000., 238000., 194000., 250000.]),\n",
       "  array([194000., 238000., 206000., 248000.]),\n",
       "  array([ 53000., 218000.,  66000., 225500.]),\n",
       "  array([ 66000., 218000.,  98000., 232000.]),\n",
       "  array([ 98000., 218000., 130000., 227000.]),\n",
       "  array([130000., 218000., 162000., 238000.]),\n",
       "  array([130000., 198000., 162000., 218000.]),\n",
       "  array([ 98000., 178000., 130000., 198000.])]}"
      ]
     },
     "execution_count": 114,
     "metadata": {},
     "output_type": "execute_result"
    }
   ],
   "source": [
    "data = load_data(DSM_path, DTM_path)\n",
    "data"
   ]
  },
  {
   "cell_type": "markdown",
   "metadata": {},
   "source": [
    "## Fetching the L_72 coordinates from the API with address [CEREN]"
   ]
  },
  {
   "cell_type": "code",
   "execution_count": 115,
   "metadata": {
    "tags": []
   },
   "outputs": [],
   "source": [
    "def fetch_coord(address:str)  -> Point:\n",
    "    \n",
    "    response = requests.get(f\"https://loc.geopunt.be/v4/location?q={address}\")\n",
    "    data = json.loads(response.content)\n",
    "    \n",
    "    long_x_lambert72 = data['LocationResult'][0]['Location']['X_Lambert72']\n",
    "    lat_y_lambert72 = data['LocationResult'][0]['Location']['Y_Lambert72']\n",
    "    \n",
    "    return Point(float(long_x_lambert72),float(lat_y_lambert72))"
   ]
  },
  {
   "cell_type": "code",
   "execution_count": 116,
   "metadata": {},
   "outputs": [],
   "source": [
    "coord = fetch_coord(dropdown_address.value)"
   ]
  },
  {
   "cell_type": "markdown",
   "metadata": {},
   "source": [
    "## Find the relevant GTiff file containing the coordinates"
   ]
  },
  {
   "cell_type": "code",
   "execution_count": 117,
   "metadata": {
    "tags": []
   },
   "outputs": [],
   "source": [
    "def find_tif(data:dict, coord:Point) -> Tuple[str]:\n",
    "    x, y = coord.xy\n",
    "    for tif_index, bounds in enumerate(data['bounds']):\n",
    "        x_min, y_min, x_max, y_max = bounds\n",
    "        if (x_min < x < x_max) and (y_min < y < y_max):\n",
    "            return tif_index"
   ]
  },
  {
   "cell_type": "code",
   "execution_count": 118,
   "metadata": {},
   "outputs": [
    {
     "data": {
      "text/plain": [
       "7"
      ]
     },
     "execution_count": 118,
     "metadata": {},
     "output_type": "execute_result"
    }
   ],
   "source": [
    "tif_index = find_tif(data, coord)\n",
    "tif_index"
   ]
  },
  {
   "cell_type": "markdown",
   "metadata": {},
   "source": [
    "## Find the polygon containing the coordinates"
   ]
  },
  {
   "cell_type": "code",
   "execution_count": 119,
   "metadata": {
    "tags": []
   },
   "outputs": [],
   "source": [
    "def find_polygon(coord:Point, shp_paths:List[str]):\n",
    "\n",
    "    for path in shp_paths:\n",
    "        try:\n",
    "            check_poly = gpd.read_file(path, mask=coord).geometry[0]\n",
    "            polys = [poly for poly in gpd.read_file(path, mask=coord).geometry]\n",
    "            poly = cascaded_union(polys)\n",
    "            break\n",
    "        except:\n",
    "            continue\n",
    "    return poly"
   ]
  },
  {
   "cell_type": "code",
   "execution_count": 120,
   "metadata": {
    "tags": []
   },
   "outputs": [
    {
     "data": {
      "image/svg+xml": [
       "<svg xmlns=\"http://www.w3.org/2000/svg\" xmlns:xlink=\"http://www.w3.org/1999/xlink\" width=\"100.0\" height=\"100.0\" viewBox=\"153346.9033786342 211467.48836157122 42.21625021530781 38.176169452723116\" preserveAspectRatio=\"xMinYMin meet\"><g transform=\"matrix(1,0,0,-1,0,422973.15289259516)\"><path fill-rule=\"evenodd\" fill=\"#66cc99\" stroke=\"#555555\" stroke-width=\"0.8443250043061562\" opacity=\"0.6\" d=\"M 153381.4167993158,211486.64556390885 L 153376.3130803907,211469.051926394 L 153372.64309954175,211470.3199657295 L 153372.89398578455,211471.03294183314 L 153369.992879599,211472.03198911063 L 153368.9560179881,211471.58310704213 L 153367.78595542946,211471.9826470781 L 153366.8099866607,211472.31596388854 L 153366.27500769772,211473.37893468235 L 153365.80087476998,211473.1333882967 L 153365.2440361039,211472.8450512644 L 153361.81194806742,211474.0350621827 L 153357.76397995846,211475.43704683147 L 153356.96001412428,211475.78304360993 L 153355.69100169442,211476.61399855837 L 153354.60300529693,211477.56803327054 L 153353.72093220265,211478.70494528115 L 153353.09196442802,211479.86902787257 L 153353.92000246528,211480.13303296827 L 153352.61398563194,211484.31701807212 L 153351.69394612184,211484.04702370428 L 153350.89704177753,211486.60703671258 L 153348.89958289653,211493.02391998842 L 153348.46694345697,211494.41408134717 L 153371.90218074946,211502.40559886023 L 153374.00642823227,211502.66055442858 L 153385.2858819073,211504.02014412917 L 153385.95669698852,211504.10096620116 L 153387.55606402672,211491.84678501077 L 153386.61814170989,211491.7234938806 L 153382.7420495057,211491.21424378734 L 153381.4167993158,211486.64556390885 z\" /></g></svg>"
      ],
      "text/plain": [
       "<shapely.geometry.polygon.Polygon at 0x131222670>"
      ]
     },
     "execution_count": 120,
     "metadata": {},
     "output_type": "execute_result"
    }
   ],
   "source": [
    "poly = find_polygon(coord, shp_paths)\n",
    "poly"
   ]
  },
  {
   "cell_type": "markdown",
   "metadata": {},
   "source": [
    "## Crop DSM & DTM"
   ]
  },
  {
   "cell_type": "code",
   "execution_count": 121,
   "metadata": {
    "tags": []
   },
   "outputs": [],
   "source": [
    "def crop_tif(data, tif_index, poly, shape_cut=dropdown_cut.value):\n",
    "    \n",
    "    DSM = rxr.open_rasterio(data['DSM_list'][tif_index],masked=True)\n",
    "    DTM = rxr.open_rasterio(data['DTM_list'][tif_index],masked=True)\n",
    "\n",
    "    left, bottom, right, top = poly.bounds\n",
    "    DSM_clip = DSM.rio.clip_box(left, bottom, right, top)\n",
    "    DTM_clip = DTM.rio.clip_box(left, bottom, right, top)\n",
    "\n",
    "    if shape_cut:\n",
    "        DSM_clip = DSM_clip.rio.clip([poly.__geo_interface__])\n",
    "        DSM_clip = np.nan_to_num(DSM_clip, nan=0)\n",
    "\n",
    "        DTM_clip = DTM_clip.rio.clip([poly.__geo_interface__])\n",
    "        DTM_clip = np.nan_to_num(DTM_clip, nan=0)\n",
    "    \n",
    "    DSM.close()\n",
    "    DTM.close()\n",
    "    \n",
    "    return DSM_clip, DTM_clip"
   ]
  },
  {
   "cell_type": "code",
   "execution_count": 122,
   "metadata": {
    "tags": []
   },
   "outputs": [],
   "source": [
    "DSM_clip, DTM_clip = crop_tif(data, tif_index, poly, shape_cut=True)"
   ]
  },
  {
   "cell_type": "markdown",
   "metadata": {},
   "source": [
    "## Create CHM from DSM & DTM"
   ]
  },
  {
   "cell_type": "code",
   "execution_count": 123,
   "metadata": {
    "tags": []
   },
   "outputs": [],
   "source": [
    "def CHMer(DSM_clip, \n",
    "          DTM_clip):\n",
    "    return DSM_clip - DTM_clip"
   ]
  },
  {
   "cell_type": "code",
   "execution_count": 124,
   "metadata": {},
   "outputs": [],
   "source": [
    "CHM = CHMer(DSM_clip, DTM_clip)"
   ]
  },
  {
   "cell_type": "markdown",
   "metadata": {},
   "source": [
    "## Outputing property's information [ATEFEH]"
   ]
  },
  {
   "cell_type": "code",
   "execution_count": 125,
   "metadata": {
    "tags": []
   },
   "outputs": [
    {
     "data": {
      "text/plain": [
       "{'Max_height': 31.117226,\n",
       " 'Estimated surface area': 593.8211757819807,\n",
       " 'Estimated Max number of floors': 9,\n",
       " 'Upper limit of living area': 5344.390582037827}"
      ]
     },
     "execution_count": 125,
     "metadata": {},
     "output_type": "execute_result"
    }
   ],
   "source": [
    "property = {}\n",
    "property[\"Max_height\"] = np.max(CHM.data)\n",
    "property[\"Estimated surface area\"] = poly.area * 0.7 # Roughly 70% of built-area is living area https://www.quora.com/How-do-I-calculate-the-number-of-floors-to-be-built\n",
    "property[\"Estimated Max number of floors\"] = int(property[\"Max_height\"] / 3.3)\n",
    "property[\"Upper limit of living area\"] = property[\"Estimated Max number of floors\"] * property[\"Estimated surface area\"]\n",
    "property"
   ]
  },
  {
   "cell_type": "markdown",
   "metadata": {},
   "source": [
    "## 3D Rendering [CORENTIN]"
   ]
  },
  {
   "cell_type": "code",
   "execution_count": 126,
   "metadata": {
    "tags": []
   },
   "outputs": [],
   "source": [
    "#from mayavi import mlab"
   ]
  },
  {
   "cell_type": "code",
   "execution_count": 127,
   "metadata": {
    "tags": []
   },
   "outputs": [],
   "source": [
    "def render_3D_2(CHM_clip):\n",
    "    '''\n",
    "    ©Harold, thanks for the tip ! \n",
    "    '''\n",
    "    pio.renderers.default='browser' \n",
    "    arr = CHM_clip.squeeze().data\n",
    "    arr = np.pad(arr, [(5, ), (5, )], mode='constant')\n",
    "    clipped_df = pd.DataFrame(arr)\n",
    "\n",
    "    fig = go.Figure(data=[go.Surface(z=clipped_df)])\n",
    "    fig.update_traces(contours_z=dict(show=True, usecolormap=False,\n",
    "                                      highlightcolor=\"turquoise\", project_z=True))\n",
    "    fig.update_layout(title=dropdown_address.value, autosize=False,\n",
    "                      scene_camera_eye=dict(x=1.87, y=0.88, z=-0.64),\n",
    "                      width=700, height=700,\n",
    "                      margin=dict(l=65, r=50, b=65, t=90)\n",
    "    )\n",
    "\n",
    "    fig.show()"
   ]
  },
  {
   "cell_type": "markdown",
   "metadata": {},
   "source": [
    "## 3D Rendering [HUGO]"
   ]
  },
  {
   "cell_type": "code",
   "execution_count": 128,
   "metadata": {},
   "outputs": [],
   "source": [
    "from mayavi import mlab\n",
    "def render_3D(CHM_clip):\n",
    "    arr = CHM_clip.squeeze().data\n",
    "    arr = np.pad(arr, [(2, ), (2, )], mode='constant')\n",
    "    mlab.figure(size=(640, 800), bgcolor=(0.16, 0.28, 0.46))\n",
    "    surf = mlab.surf(arr)\n",
    "    mlab.zlabel(\"Height\")\n",
    "    mlab.show()"
   ]
  },
  {
   "cell_type": "markdown",
   "metadata": {},
   "source": [
    "## 3D Rendering inline"
   ]
  },
  {
   "cell_type": "code",
   "execution_count": 129,
   "metadata": {
    "tags": []
   },
   "outputs": [],
   "source": [
    "# from mayavi import mlab"
   ]
  },
  {
   "cell_type": "code",
   "execution_count": 130,
   "metadata": {
    "tags": []
   },
   "outputs": [],
   "source": [
    "#mlab.init_notebook()\n",
    "#def render_3D_inline(CHM_clip):\n",
    "#    arr = CHM_clip.squeeze().data\n",
    "#    arr = np.pad(arr, [(2, ), (2, )], mode='constant')\n",
    "#    mlab.figure(size=(640, 800), bgcolor=(0.16, 0.28, 0.46))\n",
    "#    surf = mlab.surf(arr)\n",
    "#    mlab.zlabel(\"Height\")\n",
    "#    return surf"
   ]
  },
  {
   "cell_type": "markdown",
   "metadata": {
    "tags": []
   },
   "source": [
    "## Showcasing MVP"
   ]
  },
  {
   "cell_type": "code",
   "execution_count": 131,
   "metadata": {
    "tags": []
   },
   "outputs": [
    {
     "data": {
      "application/vnd.jupyter.widget-view+json": {
       "model_id": "16ba7b16797e4f9992c5d83d995b4331",
       "version_major": 2,
       "version_minor": 0
      },
      "text/plain": [
       "Box(children=(Dropdown(description='Address:', index=4, options=('Sint-Pietersplein 9 Gent 9000', 'Sint-Pieter…"
      ]
     },
     "metadata": {},
     "output_type": "display_data"
    }
   ],
   "source": [
    "widgets.Box(items)"
   ]
  },
  {
   "cell_type": "code",
   "execution_count": null,
   "metadata": {},
   "outputs": [],
   "source": []
  }
 ],
 "metadata": {
  "kernelspec": {
   "display_name": "Python 3",
   "language": "python",
   "name": "python3"
  },
  "language_info": {
   "codemirror_mode": {
    "name": "ipython",
    "version": 3
   },
   "file_extension": ".py",
   "mimetype": "text/x-python",
   "name": "python",
   "nbconvert_exporter": "python",
   "pygments_lexer": "ipython3",
   "version": "3.8.4rc1"
  }
 },
 "nbformat": 4,
 "nbformat_minor": 4
}
