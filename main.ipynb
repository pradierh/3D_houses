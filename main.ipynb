{
 "cells": [
  {
   "cell_type": "markdown",
   "metadata": {},
   "source": [
    "# 3D_HOUSES"
   ]
  },
  {
   "cell_type": "markdown",
   "metadata": {
    "tags": []
   },
   "source": [
    "## Import all libraries"
   ]
  },
  {
   "cell_type": "code",
   "execution_count": null,
   "metadata": {
    "tags": []
   },
   "outputs": [],
   "source": [
    "# Code/system libraries\n",
    "from glob import glob\n",
    "from typing import Tuple, List\n",
    "import natsort\n",
    "\n",
    "# Data libraries\n",
    "import numpy as np\n",
    "import pandas as pd\n",
    "\n",
    "# Visualization libraries\n",
    "import ipywidgets as widgets\n",
    "from mayavi import mlab\n",
    "import plotly.graph_objects as go\n",
    "import plotly.io as pio \n",
    "\n",
    "# API libraries\n",
    "import json\n",
    "import requests\n",
    "\n",
    "# GeoData/rasters libraries\n",
    "import geopandas as gpd\n",
    "import rasterio\n",
    "import rioxarray as rxr\n",
    "from shapely.geometry import Point, Polygon\n",
    "from shapely.ops import cascaded_union"
   ]
  },
  {
   "cell_type": "markdown",
   "metadata": {},
   "source": [
    "## Global Variables"
   ]
  },
  {
   "cell_type": "code",
   "execution_count": null,
   "metadata": {
    "tags": []
   },
   "outputs": [],
   "source": [
    "# Specify the paths to DSM and DTM folders + paths to .shp files\n",
    "\n",
    "DSM_path = \"/Volumes/Samsung T7/DSM/**/*.tif\"\n",
    "DTM_path =  \"/Volumes/Samsung T7/DTM/**/*.tif\"\n",
    "\n",
    "shp_paths = [\"/Volumes/Samsung T7/CADASTRE DATA/Belgium_L72_2020/Bpn_CaBu.shp\", \"/Volumes/Samsung T7/CADASTRE DATA/Belgium_L72_2020/Bpn_ReBu.shp\"]\n",
    "\n",
    "property = {}"
   ]
  },
  {
   "cell_type": "markdown",
   "metadata": {},
   "source": [
    "## Create a dictionary of GTiff's paths and bounds"
   ]
  },
  {
   "cell_type": "code",
   "execution_count": null,
   "metadata": {
    "tags": []
   },
   "outputs": [],
   "source": [
    "def load_data(DSM_path:str, DTM_path:str) -> dict:\n",
    "    '''\n",
    "    This function creates a dictionary with two sorted lists for DSM/DTM files\n",
    "    and one similarly sorted list with their bounds in L72 Lambert coordinates.\n",
    "    '''\n",
    "    \n",
    "    data = {}\n",
    "    # natsorted deals with 1-10 ordering\n",
    "    data['DSM_list'] = natsort.natsorted([file for file in glob(DSM_path, recursive=True)])\n",
    "    data['DTM_list'] = natsort.natsorted([file for file in glob(DTM_path, recursive=True)])\n",
    "    data['bounds'] = []\n",
    "    \n",
    "    # bounds in DTM and DSM are equivalent\n",
    "    for path in data['DSM_list']:\n",
    "        with rasterio.open(path, driver=\"GTiff\") as tif:\n",
    "            data['bounds'].append(np.array(tif.bounds))\n",
    "\n",
    "    return data"
   ]
  },
  {
   "cell_type": "markdown",
   "metadata": {},
   "source": [
    "## Fetch the L_72 coordinates from the API with address"
   ]
  },
  {
   "cell_type": "code",
   "execution_count": null,
   "metadata": {
    "tags": []
   },
   "outputs": [],
   "source": [
    "def fetch_coord(address:str)  -> Point:\n",
    "    '''\n",
    "    This function fetches the L72 coordinates of a given address\n",
    "    from the loc.geopunt.be API.\n",
    "    '''\n",
    "    \n",
    "    response = requests.get(f\"https://loc.geopunt.be/v4/location?q={address}\")\n",
    "    data = json.loads(response.content)\n",
    "    \n",
    "    if not data['LocationResult']:\n",
    "        raise ValueError(f\"The given address ({address}) could not be found by the API\")\n",
    "    \n",
    "    long_x_lambert72 = data['LocationResult'][0]['Location']['X_Lambert72']\n",
    "    lat_y_lambert72 = data['LocationResult'][0]['Location']['Y_Lambert72']\n",
    "    \n",
    "    return Point(float(long_x_lambert72),float(lat_y_lambert72))"
   ]
  },
  {
   "cell_type": "markdown",
   "metadata": {},
   "source": [
    "## Find the index of the .tif files containing the coordinates"
   ]
  },
  {
   "cell_type": "code",
   "execution_count": null,
   "metadata": {
    "tags": []
   },
   "outputs": [],
   "source": [
    "def find_tif(data:dict, coord:Point) -> int:\n",
    "    '''\n",
    "    This function checks which DSM/DTM files contain the Point\n",
    "    coordinates by checking against the bounds, and returns the\n",
    "    index if a DSM/DTM is found.\n",
    "    '''\n",
    "    \n",
    "    # unpacking the x,y from Point\n",
    "    x, y = coord.xy\n",
    "    \n",
    "    for tif_index, bounds in enumerate(data['bounds']):\n",
    "        x_min, y_min, x_max, y_max = bounds\n",
    "        if (x_min < x < x_max) and (y_min < y < y_max):\n",
    "            return tif_index\n",
    "        \n",
    "    raise ValueError(f\"No DSM/DTM containing the given coordinates ({coord.xy}) could be found\")"
   ]
  },
  {
   "cell_type": "markdown",
   "metadata": {},
   "source": [
    "## Find the polygon containing the coordinates"
   ]
  },
  {
   "cell_type": "code",
   "execution_count": null,
   "metadata": {
    "tags": []
   },
   "outputs": [],
   "source": [
    "def find_polygon(coord:Point, shp_paths:List[str]) -> Polygon:\n",
    "    '''\n",
    "    This function searches for the polygon(s) containing the Point coordinates\n",
    "    within a list of .shp files containing cadastrial information. If multiple\n",
    "    polygons are found, they are joined together to form a single polygon.\n",
    "    '''\n",
    "\n",
    "    for path in shp_paths:\n",
    "        \n",
    "        # Ultra-efficient search for a polygon intersecting the mask object\n",
    "        polys = gpd.read_file(path, mask=coord).geometry\n",
    "        \n",
    "        if not polys.empty:\n",
    "            polys_list = [poly for poly in gpd.read_file(path, mask=coord).geometry]\n",
    "            poly = cascaded_union(polys)\n",
    "            return poly\n",
    "        \n",
    "    raise ValueError(f\"No polygon containing the given coordinates ({coord.xy}) could be found\")"
   ]
  },
  {
   "cell_type": "markdown",
   "metadata": {},
   "source": [
    "## Crop DSM & DTM"
   ]
  },
  {
   "cell_type": "code",
   "execution_count": null,
   "metadata": {
    "tags": []
   },
   "outputs": [],
   "source": [
    "def crop_tif(data, tif_index, poly, shape_cut=True) -> Tuple[np.ndarray]:\n",
    "    '''\n",
    "    This function clips the DSM and DTM files with the shape or the bounds\n",
    "    of the polygon. If clipping with the shape, nan.values are set to zero\n",
    "    to later have better rendering of the walls (avoiding overclipping).\n",
    "    '''\n",
    "    \n",
    "    DSM = rxr.open_rasterio(data['DSM_list'][tif_index],masked=True)\n",
    "    DTM = rxr.open_rasterio(data['DTM_list'][tif_index],masked=True)\n",
    "    \n",
    "    # First clipping with bounds optimizes the processing\n",
    "    left, bottom, right, top = poly.bounds\n",
    "    DSM_clip = DSM.rio.clip_box(left, bottom, right, top)\n",
    "    DTM_clip = DTM.rio.clip_box(left, bottom, right, top)\n",
    "\n",
    "    if shape_cut:\n",
    "        DSM_clip = DSM_clip.rio.clip([poly.__geo_interface__])\n",
    "        DSM_clip = np.nan_to_num(DSM_clip, nan=0)\n",
    "\n",
    "        DTM_clip = DTM_clip.rio.clip([poly.__geo_interface__])\n",
    "        DTM_clip = np.nan_to_num(DTM_clip, nan=0)\n",
    "    \n",
    "    # Close the .tif files to avoid memory leaks\n",
    "    DSM.close()\n",
    "    DTM.close()\n",
    "    \n",
    "    return DSM_clip, DTM_clip"
   ]
  },
  {
   "cell_type": "markdown",
   "metadata": {},
   "source": [
    "## Generate CHM"
   ]
  },
  {
   "cell_type": "code",
   "execution_count": null,
   "metadata": {
    "tags": []
   },
   "outputs": [],
   "source": [
    "def CHMer(DSM_clip, DTM_clip) -> np.ndarray:\n",
    "    '''\n",
    "    This function generates a Canopy Height Models (CHM) that renders terrain\n",
    "    features from the ground up.\n",
    "    '''\n",
    "    return DSM_clip - DTM_clip"
   ]
  },
  {
   "cell_type": "markdown",
   "metadata": {},
   "source": [
    "## 3D Rendering (plotly)"
   ]
  },
  {
   "cell_type": "code",
   "execution_count": null,
   "metadata": {
    "tags": []
   },
   "outputs": [],
   "source": [
    "def render_3D_2(CHM_clip: np.ndarray):\n",
    "    '''\n",
    "    ©Harold, thanks for this function ! \n",
    "    This function uses plotly to create an interactive 3D plot annotated \n",
    "    with real-estate information estimated from the polygon and the CHM. \n",
    "    '''\n",
    "    # Allows the rendering to be displayed in the browser\n",
    "    pio.renderers.default='browser' \n",
    "    \n",
    "\n",
    "    \n",
    "    # Retrieves the NxM array from the BxNxM xarray object\n",
    "    arr = CHM_clip.squeeze().data\n",
    "    # Pads the array for better rendering\n",
    "    arr = np.pad(arr, [(5, ), (5, )], mode='constant')\n",
    "    \n",
    "    # Take the length to have proper ratio in the rendering\n",
    "    N = len(arr[:,0])\n",
    "    M = len(arr[0,:])\n",
    "    \n",
    "    clipped_df = pd.DataFrame(arr)\n",
    "\n",
    "    fig = go.Figure(data=[go.Surface(z=clipped_df, colorscale='Portland')], \n",
    "                    layout=go.Layout(\n",
    "                        annotations=[\n",
    "                            go.layout.Annotation(\n",
    "                                text=f\"Estimated surface area : {property['Estimated ground living area']}<br>Estimated Max number of floors : {property['Estimated Max number of floors']}<br>Upper limit of living area : {property['Upper limit of living area']} m2\",\n",
    "                                align='left',\n",
    "                                showarrow=False,\n",
    "                                xref='paper',\n",
    "                                yref='paper',\n",
    "                                x=0.1,\n",
    "                                y=1)\n",
    "                    ]\n",
    "            )\n",
    "    )\n",
    "    \n",
    "    fig.update_traces(contours_z=dict(show=True, usecolormap=True,\n",
    "                                      highlightcolor=\"turquoise\", project_z=True)\n",
    "    )\n",
    "    \n",
    "    fig.update_layout(title=(dropdown_address.value), \n",
    "                      scene = {\"aspectratio\": {\"x\": (N/N), \"y\":(N/M), \"z\": 1}},\n",
    "                      autosize=False,\n",
    "                      scene_camera_eye=dict(x=1.87, y=0.88, z=-0.64),\n",
    "                      width=700, height=700,\n",
    "                      margin=dict(l=65, r=50, b=65, t=90)\n",
    "    )\n",
    "    \n",
    "    fig.show()"
   ]
  },
  {
   "cell_type": "markdown",
   "metadata": {},
   "source": [
    "## 3D Rendering (mayavi)"
   ]
  },
  {
   "cell_type": "code",
   "execution_count": null,
   "metadata": {},
   "outputs": [],
   "source": [
    "def render_3D(CHM_clip: np.ndarray):\n",
    "    '''\n",
    "    This function uses mayavi to create an interactive 3D plot. \n",
    "    '''\n",
    "    \n",
    "    # Retrieves the NxM array from the BxNxM xarray object\n",
    "    arr = CHM_clip.squeeze().data\n",
    "    # Pads the array for better rendering\n",
    "    arr = np.pad(arr, [(2, ), (2, )], mode='constant')\n",
    "    mlab.figure(size=(640, 800), bgcolor=(0.16, 0.28, 0.46))\n",
    "    surf = mlab.surf(arr)\n",
    "    mlab.zlabel(\"Height\")\n",
    "    mlab.show()"
   ]
  },
  {
   "cell_type": "markdown",
   "metadata": {
    "tags": []
   },
   "source": [
    "## Widgets"
   ]
  },
  {
   "cell_type": "code",
   "execution_count": null,
   "metadata": {
    "tags": []
   },
   "outputs": [],
   "source": [
    "dropdown_address = widgets.Dropdown(\n",
    "    options=['Sint-Pietersplein 9 Gent 9000', \n",
    "            'Sint-Pietersplein 16 Gent 9000', \n",
    "            'Lange Nieuwstraat 73 Antwerpen 2000',\n",
    "            'Abrahamstraat 15 Gent 9000',\n",
    "            'Quinten Matsijslei 25 Antwerpen 2018',\n",
    "            'Koningin Astridplein 27 Antwerpen 2018'],\n",
    "    value='Quinten Matsijslei 25 Antwerpen 2018',\n",
    "    description='Address:',\n",
    "    disabled=False,\n",
    ")\n",
    "\n",
    "button = widgets.Button(\n",
    "    description='3D Plot',\n",
    "    disabled=False,\n",
    "    button_style='info', \n",
    "    tooltip='Click me',\n",
    "    icon='cube'\n",
    ")\n",
    "\n",
    "dropdown_cut = widgets.Dropdown(\n",
    "    options=[('Polygon clipping', True), ('Square clipping', False)],\n",
    "    value=True,\n",
    "    description='Clip:',\n",
    "    disabled=False,\n",
    ")\n",
    "\n",
    "dropdown_renderer = widgets.Dropdown(\n",
    "    options=[('Mayavi', render_3D), ('Plotly', render_3D_2)],\n",
    "    value=render_3D_2,\n",
    "    description='Renderer:',\n",
    "    disabled=False,\n",
    ")\n",
    "\n",
    "def main(from_button):\n",
    "    '''\n",
    "    This function calls all the functions to process an address (within a widget)\n",
    "    into a 3D plot and a dictionary with properties information.\n",
    "    '''\n",
    "    \n",
    "    data = load_data(DSM_path, DTM_path)\n",
    "    coord = fetch_coord(dropdown_address.value)\n",
    "    tif_index = find_tif(data, coord)\n",
    "    poly = find_polygon(coord, shp_paths)\n",
    "    DSM_clip, DTM_clip = crop_tif(data, tif_index, poly, shape_cut=dropdown_cut.value)\n",
    "    CHM = CHMer(DSM_clip, DTM_clip)\n",
    "    property[\"Max_height\"] = f\"{np.max(CHM.data)} m\"\n",
    "    property[\"Estimated ground living area\"] = f\"{int(poly.area * 0.7)} m2\" # Roughly 70% of built-area is living area \n",
    "    property[\"Estimated Max number of floors\"] = f\"{int(np.max(CHM.data) / 3.3)} storey building\"\n",
    "    property[\"Upper limit of living area\"] = f\"{int(poly.area * 0.7) * int(np.max(CHM.data) / 3.3)}\"\n",
    "    dropdown_renderer.value(CHM)\n",
    "    \n",
    "button.on_click(main)\n",
    "\n",
    "items = [dropdown_address, dropdown_cut, dropdown_renderer, button]"
   ]
  },
  {
   "cell_type": "markdown",
   "metadata": {
    "tags": []
   },
   "source": [
    "## Showcasing MVP"
   ]
  },
  {
   "cell_type": "code",
   "execution_count": null,
   "metadata": {
    "tags": []
   },
   "outputs": [],
   "source": [
    "widgets.Box(items)"
   ]
  },
  {
   "cell_type": "code",
   "execution_count": null,
   "metadata": {},
   "outputs": [],
   "source": []
  }
 ],
 "metadata": {
  "kernelspec": {
   "display_name": "Python 3",
   "language": "python",
   "name": "python3"
  },
  "language_info": {
   "codemirror_mode": {
    "name": "ipython",
    "version": 3
   },
   "file_extension": ".py",
   "mimetype": "text/x-python",
   "name": "python",
   "nbconvert_exporter": "python",
   "pygments_lexer": "ipython3",
   "version": "3.8.4rc1"
  }
 },
 "nbformat": 4,
 "nbformat_minor": 4
}
