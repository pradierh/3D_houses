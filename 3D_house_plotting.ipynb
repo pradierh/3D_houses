{
 "cells": [
  {
   "cell_type": "markdown",
   "metadata": {},
   "source": [
    "# Plotting 3D houses"
   ]
  },
  {
   "cell_type": "markdown",
   "metadata": {},
   "source": [
    "## Import libraries"
   ]
  },
  {
   "cell_type": "code",
   "execution_count": 37,
   "metadata": {},
   "outputs": [],
   "source": [
    "import json\n",
    "import requests\n",
    "\n",
    "from pathlib import Path\n",
    "import rasterio\n",
    "\n",
    "import geopandas as gpd\n",
    "from shapely.geometry import Point"
   ]
  },
  {
   "cell_type": "markdown",
   "metadata": {},
   "source": [
    "## Get Lambert72 coordinates from the API with given address"
   ]
  },
  {
   "cell_type": "code",
   "execution_count": 19,
   "metadata": {},
   "outputs": [],
   "source": [
    "def get_coordinates(address):\n",
    "    \n",
    "    response = requests.get(f\"https://loc.geopunt.be/v4/location?q={address}\")\n",
    "    data = json.loads(response.content)\n",
    "    \n",
    "    long_x_lambert72 = data['LocationResult'][0]['Location']['X_Lambert72']\n",
    "    lat_y_lambert72 = data['LocationResult'][0]['Location']['Y_Lambert72']\n",
    "    \n",
    "    return int(long_x_lambert72),int(lat_y_lambert72)"
   ]
  },
  {
   "cell_type": "code",
   "execution_count": 12,
   "metadata": {},
   "outputs": [],
   "source": [
    "address = \"Victor Braeckmanlaan 185, 9040 Ghent\""
   ]
  },
  {
   "cell_type": "code",
   "execution_count": 11,
   "metadata": {},
   "outputs": [
    {
     "data": {
      "text/plain": [
       "(107011, 194663)"
      ]
     },
     "execution_count": 11,
     "metadata": {},
     "output_type": "execute_result"
    }
   ],
   "source": [
    "X_lambert72, Y_Lambert72 = get_coordinates(address)\n",
    "X_lambert72, Y_Lambert72"
   ]
  },
  {
   "cell_type": "markdown",
   "metadata": {},
   "source": [
    "## Get DSM number containing the Lambert72 coordinates"
   ]
  },
  {
   "cell_type": "code",
   "execution_count": 22,
   "metadata": {},
   "outputs": [],
   "source": [
    "def get_DSM_number(x, y, folder_path):\n",
    "    folder_path = Path(folder_path)\n",
    "    for file in folder_path.glob(f\"**/*.tif\"):\n",
    "        dataset = rasterio.open(file)\n",
    "        bound = dataset.bounds\n",
    "        if x >= bound[0] and x <= bound[2] and y >= bound[1] and y <= bound[3]:\n",
    "            number = file.name.split('.')[0][-2:]\n",
    "            return number\n",
    "        else:\n",
    "            print('not this file', file.name)"
   ]
  },
  {
   "cell_type": "code",
   "execution_count": 23,
   "metadata": {},
   "outputs": [],
   "source": [
    "DSM_path = \"/Users/cerenmorey/Desktop/3D_Project/DSM\"\n",
    "DTM_path = \"/Users/cerenmorey/Desktop/3D_Project/DTM\""
   ]
  },
  {
   "cell_type": "code",
   "execution_count": 28,
   "metadata": {},
   "outputs": [
    {
     "name": "stdout",
     "output_type": "stream",
     "text": [
      "not this file DHMVIIDSMRAS1m_k04.tif\n",
      "not this file DHMVIIDSMRAS1m_k03.tif\n",
      "not this file DHMVIIDSMRAS1m_k35.tif\n",
      "not this file DHMVIIDSMRAS1m_k32.tif\n",
      "not this file DHMVIIDSMRAS1m_k33.tif\n",
      "not this file DHMVIIDSMRAS1m_k34.tif\n",
      "not this file DHMVIIDSMRAS1m_k02.tif\n",
      "not this file DHMVIIDSMRAS1m_k05.tif\n",
      "not this file DHMVIIDSMRAS1m_k42.tif\n",
      "not this file DHMVIIDSMRAS1m_k18.tif\n",
      "not this file DHMVIIDSMRAS1m_k27.tif\n",
      "not this file DHMVIIDSMRAS1m_k20.tif\n",
      "not this file DHMVIIDSMRAS1m_k29.tif\n",
      "not this file DHMVIIDSMRAS1m_k19.tif\n",
      "not this file DHMVIIDSMRAS1m_k11.tif\n",
      "not this file DHMVIIDSMRAS1m_k43.tif\n",
      "not this file DHMVIIDSMRAS1m_k10.tif\n",
      "not this file DHMVIIDSMRAS1m_k28.tif\n",
      "not this file DHMVIIDSMRAS1m_k17.tif\n",
      "not this file DHMVIIDSMRAS1m_k21.tif\n",
      "not this file DHMVIIDSMRAS1m_k26.tif\n",
      "not this file DHMVIIDSMRAS1m_k07.tif\n",
      "not this file DHMVIIDSMRAS1m_k38.tif\n",
      "not this file DHMVIIDSMRAS1m_k31.tif\n",
      "not this file DHMVIIDSMRAS1m_k36.tif\n",
      "not this file DHMVIIDSMRAS1m_k09.tif\n",
      "not this file DHMVIIDSMRAS1m_k37.tif\n",
      "not this file DHMVIIDSMRAS1m_k08.tif\n",
      "not this file DHMVIIDSMRAS1m_k30.tif\n",
      "not this file DHMVIIDSMRAS1m_k06.tif\n",
      "not this file DHMVIIDSMRAS1m_k39.tif\n",
      "not this file DHMVIIDSMRAS1m_k01.tif\n",
      "not this file DHMVIIDSMRAS1m_k23.tif\n",
      "not this file DHMVIIDSMRAS1m_k24.tif\n",
      "not this file DHMVIIDSMRAS1m_k12.tif\n",
      "not this file DHMVIIDSMRAS1m_k16.tif\n",
      "not this file DHMVIIDSMRAS1m_k41.tif\n",
      "not this file DHMVIIDSMRAS1m_k14.tif\n",
      "not this file DHMVIIDSMRAS1m_k13.tif\n",
      "not this file DHMVIIDSMRAS1m_k25.tif\n"
     ]
    },
    {
     "data": {
      "text/plain": [
       "'22'"
      ]
     },
     "execution_count": 28,
     "metadata": {},
     "output_type": "execute_result"
    }
   ],
   "source": [
    "number = get_DSM_number(X_lambert72,Y_Lambert72,DSM_path)\n",
    "number"
   ]
  },
  {
   "cell_type": "markdown",
   "metadata": {},
   "source": [
    "## Download the corresponding DTM file from the website\n",
    "*Only download the relevant DTM file because I don't have enough memory on my computer.*"
   ]
  },
  {
   "cell_type": "code",
   "execution_count": 17,
   "metadata": {},
   "outputs": [],
   "source": [
    "def download_dtm(url, save_path, chunk_size=128):\n",
    "    file = Path(save_path)\n",
    "    r = requests.get(url, stream=True)\n",
    "    with open(save_path, 'wb') as fd:\n",
    "        print(f\"Downloading {file.name}\")\n",
    "        total_length = r.headers.get('content-length')\n",
    "        if total_length is None:  \n",
    "            fd.write(r.content)\n",
    "        else:\n",
    "            dl = 0\n",
    "            total_length = int(total_length)\n",
    "            for chunk in r.iter_content(chunk_size=chunk_size):\n",
    "                dl += len(chunk)\n",
    "                fd.write(chunk)\n",
    "                print(f\"{round(100*dl/total_length,2)}% processed\")\n",
    "    z = zipfile.ZipFile(io.BytesIO(r.content))\n",
    "    z.extractall(str(file.parents[0]))"
   ]
  },
  {
   "cell_type": "code",
   "execution_count": 27,
   "metadata": {},
   "outputs": [],
   "source": [
    "url = f'https://downloadagiv.blob.core.windows.net/dhm-vlaanderen-ii-dtm-raster-1m/DHMVIIDTMRAS1m_k{number}.zip'\n",
    "save_path = f'/Users/cerenmorey/Desktop/3D_Project/DTM/DHMVIIDTMRAS1m_k{number}.zip'\n",
    "\n",
    "download_dtm(url, save_path = save_path)"
   ]
  },
  {
   "cell_type": "markdown",
   "metadata": {},
   "source": [
    "## Get CHM function"
   ]
  },
  {
   "cell_type": "code",
   "execution_count": 66,
   "metadata": {},
   "outputs": [],
   "source": [
    "def get_chm():\n",
    "\n",
    "    DSM_file_path = f\"/Users/cerenmorey/Desktop/3D_Project/DSM/DHMVIIDSMRAS1m_k{number}/GeoTIFF/DHMVIIDSMRAS1m_k{number}.tif\"\n",
    "    DTM_file_path = f\"/Users/cerenmorey/Desktop/3D_Project/DTM/DHMVIIDTMRAS1m_k{number}/GeoTIFF/DHMVIIDTMRAS1m_k{number}.tif\"\n",
    "\n",
    "    \n",
    "    dsm = rasterio.open(DSM_file_path, driver = 'GTiff')\n",
    "    dtm = rasterio.open(DTM_file_path, driver = 'GTiff')\n",
    "    \n",
    "    chm = dsm.read(masked=True) - dtm.read(masked=True)\n",
    "    \n",
    "    return chm"
   ]
  },
  {
   "cell_type": "code",
   "execution_count": 67,
   "metadata": {
    "scrolled": true
   },
   "outputs": [
    {
     "data": {
      "text/plain": [
       "masked_array(\n",
       "  data=[[0.0, 0.0, 0.0, ..., 0.0, 0.0, 0.0],\n",
       "        [0.0, 0.0, 0.0, ..., 0.0, 0.0, 0.0],\n",
       "        [0.0, 0.0, 0.009999752044677734, ..., 0.0, 0.0, 0.0],\n",
       "        ...,\n",
       "        [4.859999656677246, 5.290000915527344, 5.700000762939453, ...,\n",
       "         0.0, 0.0, 0.0],\n",
       "        [1.5700006484985352, 5.960000038146973, 5.660000801086426, ...,\n",
       "         0.0, 0.0, 0.0],\n",
       "        [0.039999961853027344, 0.0, 0.5699996948242188, ..., 0.0, 0.0,\n",
       "         0.0]],\n",
       "  mask=[[False, False, False, ..., False, False, False],\n",
       "        [False, False, False, ..., False, False, False],\n",
       "        [False, False, False, ..., False, False, False],\n",
       "        ...,\n",
       "        [False, False, False, ..., False, False, False],\n",
       "        [False, False, False, ..., False, False, False],\n",
       "        [False, False, False, ..., False, False, False]],\n",
       "  fill_value=-9999.0,\n",
       "  dtype=float32)"
      ]
     },
     "execution_count": 67,
     "metadata": {},
     "output_type": "execute_result"
    }
   ],
   "source": [
    "get_chm()"
   ]
  },
  {
   "cell_type": "markdown",
   "metadata": {},
   "source": [
    "## Get Polygon coordinates from the CaBu file"
   ]
  },
  {
   "cell_type": "code",
   "execution_count": 61,
   "metadata": {},
   "outputs": [],
   "source": [
    "def get_polygon_coordinates(X_lambert72,Y_Lambert72, cabu_file):\n",
    "\n",
    "    coord = Point(X_lambert72,Y_Lambert72)\n",
    "    \n",
    "\n",
    "    geo = gpd.read_file(cabu_file,mask = coord)\n",
    "    polygon_coordinates = geo['geometry'][1]\n",
    "    \n",
    "    return polygon_coordinates"
   ]
  },
  {
   "cell_type": "code",
   "execution_count": 62,
   "metadata": {},
   "outputs": [
    {
     "data": {
      "image/svg+xml": [
       "<svg xmlns=\"http://www.w3.org/2000/svg\" xmlns:xlink=\"http://www.w3.org/1999/xlink\" width=\"100.0\" height=\"100.0\" viewBox=\"107009.11566567654 194657.22306319748 16.261070335982367 22.627025592082646\" preserveAspectRatio=\"xMinYMin meet\"><g transform=\"matrix(1,0,0,-1,0,389337.07315198705)\"><path fill-rule=\"evenodd\" fill=\"#66cc99\" stroke=\"#555555\" stroke-width=\"0.4525405118416529\" opacity=\"0.6\" d=\"M 107013.33562469741,194679.01205080468 L 107016.12563129741,194671.66804974992 L 107016.93666387856,194671.9680543784 L 107017.86664657669,194669.35701929592 L 107021.13766000763,194670.41703334823 L 107024.53869802762,194660.8520393204 L 107016.37469702112,194658.06110118236 L 107013.1836440859,194667.50606891513 L 107015.17463295319,194668.31603544857 L 107013.66464504902,194672.52905457187 L 107011.70367638432,194671.88808589522 L 107011.33370652329,194672.95903992746 L 107009.95370366143,194677.0510423286 L 107011.61463536952,194676.54103720933 L 107013.33562469741,194679.01205080468 z\" /></g></svg>"
      ],
      "text/plain": [
       "<shapely.geometry.polygon.Polygon at 0x7f985c0a7670>"
      ]
     },
     "execution_count": 62,
     "metadata": {},
     "output_type": "execute_result"
    }
   ],
   "source": [
    "cabu_file = '/Users/cerenmorey/Desktop/Belgium_L72_2018/Bpn_CaBu.shp'\n",
    "polygon_coordinates = get_polygon_coordinates(X_lambert72,Y_Lambert72, cabu_file)\n",
    "polygon_coordinates"
   ]
  },
  {
   "cell_type": "code",
   "execution_count": null,
   "metadata": {},
   "outputs": [],
   "source": []
  }
 ],
 "metadata": {
  "kernelspec": {
   "display_name": "Python 3",
   "language": "python",
   "name": "python3"
  },
  "language_info": {
   "codemirror_mode": {
    "name": "ipython",
    "version": 3
   },
   "file_extension": ".py",
   "mimetype": "text/x-python",
   "name": "python",
   "nbconvert_exporter": "python",
   "pygments_lexer": "ipython3",
   "version": "3.8.3"
  }
 },
 "nbformat": 4,
 "nbformat_minor": 4
}
