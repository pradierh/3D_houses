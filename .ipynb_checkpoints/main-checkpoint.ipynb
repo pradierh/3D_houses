{
 "cells": [
  {
   "cell_type": "markdown",
   "metadata": {},
   "source": [
    "# 3D_HOUSES"
   ]
  },
  {
   "cell_type": "markdown",
   "metadata": {},
   "source": [
    "## Import all libraries"
   ]
  },
  {
   "cell_type": "code",
   "execution_count": 1,
   "metadata": {},
   "outputs": [],
   "source": [
    "from glob import glob\n",
    "from typing import Tuple, List\n",
    "import natsort\n",
    "import numpy as np\n",
    "import matplotlib.pyplot as plt\n",
    "from mayavi import mlab\n",
    "\n",
    "import geopandas as gpd\n",
    "import rasterio\n",
    "import rioxarray as rxr\n",
    "from shapely.geometry import Point, Polygon\n",
    "\n",
    "%matplotlib inline"
   ]
  },
  {
   "cell_type": "markdown",
   "metadata": {
    "tags": []
   },
   "source": [
    "## Global Variables"
   ]
  },
  {
   "cell_type": "code",
   "execution_count": 9,
   "metadata": {},
   "outputs": [],
   "source": [
    "address = \"Sint-Pietersplein%209,Gent\"\n",
    "\n",
    "DSM_path = \"/Volumes/Samsung T7/DSM/**/*.tif\"\n",
    "DTM_path =  \"/Volumes/Samsung T7/DTM/**/*.tif\"\n",
    "\n",
    "shp_paths = [\"/Volumes/Samsung T7/CADASTRE DATA/Belgium_L72_2020/Bpn_CaBu.shp\", \"/Volumes/Samsung T7/CADASTRE DATA/Belgium_L72_2020/Bpn_ReBu.shp\"]"
   ]
  },
  {
   "cell_type": "markdown",
   "metadata": {},
   "source": [
    "## Create a dictionary of GTiff's paths and bounds"
   ]
  },
  {
   "cell_type": "code",
   "execution_count": 10,
   "metadata": {},
   "outputs": [],
   "source": [
    "def load_data(DSM_path:str, DTM_path:str) -> dict:\n",
    "    \n",
    "    data = {}\n",
    "    data['DSM_list'] = natsort.natsorted([file for file in glob(DSM_path, recursive=True)])\n",
    "    data['DTM_list'] = natsort.natsorted([file for file in glob(DTM_path, recursive=True)])\n",
    "    data['bounds'] = []\n",
    "    \n",
    "    for path in data['DSM_list']:\n",
    "        with rasterio.open(path, driver=\"GTiff\") as tif:\n",
    "            data['bounds'].append(np.array(tif.bounds))\n",
    "\n",
    "    return data"
   ]
  },
  {
   "cell_type": "code",
   "execution_count": 11,
   "metadata": {},
   "outputs": [
    {
     "data": {
      "text/plain": [
       "{'DSM_list': ['/Volumes/Samsung T7/DSM/DHMVIIDSMRAS1m_k01/GeoTIFF/DHMVIIDSMRAS1m_k01.tif',\n",
       "  '/Volumes/Samsung T7/DSM/DHMVIIDSMRAS1m_k02/GeoTIFF/DHMVIIDSMRAS1m_k02.tif',\n",
       "  '/Volumes/Samsung T7/DSM/DHMVIIDSMRAS1m_k03/GeoTIFF/DHMVIIDSMRAS1m_k03.tif',\n",
       "  '/Volumes/Samsung T7/DSM/DHMVIIDSMRAS1m_k04/GeoTIFF/DHMVIIDSMRAS1m_k04.tif',\n",
       "  '/Volumes/Samsung T7/DSM/DHMVIIDSMRAS1m_k05/GeoTIFF/DHMVIIDSMRAS1m_k05.tif',\n",
       "  '/Volumes/Samsung T7/DSM/DHMVIIDSMRAS1m_k06/GeoTIFF/DHMVIIDSMRAS1m_k06.tif',\n",
       "  '/Volumes/Samsung T7/DSM/DHMVIIDSMRAS1m_k07/GeoTIFF/DHMVIIDSMRAS1m_k07.tif',\n",
       "  '/Volumes/Samsung T7/DSM/DHMVIIDSMRAS1m_k15/GeoTIFF/DHMVIIDSMRAS1m_k15.tif',\n",
       "  '/Volumes/Samsung T7/DSM/DHMVIIDSMRAS1m_k22/GeoTIFF/DHMVIIDSMRAS1m_k22.tif'],\n",
       " 'DTM_list': ['/Volumes/Samsung T7/DTM/DHMVIIDTMRAS1m_k01/GeoTIFF/DHMVIIDTMRAS1m_k01.tif',\n",
       "  '/Volumes/Samsung T7/DTM/DHMVIIDTMRAS1m_k02/GeoTIFF/DHMVIIDTMRAS1m_k02.tif',\n",
       "  '/Volumes/Samsung T7/DTM/DHMVIIDTMRAS1m_k03/GeoTIFF/DHMVIIDTMRAS1m_k03.tif',\n",
       "  '/Volumes/Samsung T7/DTM/DHMVIIDTMRAS1m_k04/GeoTIFF/DHMVIIDTMRAS1m_k04.tif',\n",
       "  '/Volumes/Samsung T7/DTM/DHMVIIDTMRAS1m_k05/GeoTIFF/DHMVIIDTMRAS1m_k05.tif',\n",
       "  '/Volumes/Samsung T7/DTM/DHMVIIDTMRAS1m_k06/GeoTIFF/DHMVIIDTMRAS1m_k06.tif',\n",
       "  '/Volumes/Samsung T7/DTM/DHMVIIDTMRAS1m_k07/GeoTIFF/DHMVIIDTMRAS1m_k07.tif',\n",
       "  '/Volumes/Samsung T7/DTM/DHMVIIDTMRAS1m_k15/GeoTIFF/DHMVIIDTMRAS1m_k15.tif',\n",
       "  '/Volumes/Samsung T7/DTM/DHMVIIDTMRAS1m_k22/GeoTIFF/DHMVIIDTMRAS1m_k22.tif'],\n",
       " 'bounds': [array([145000., 238000., 162000., 247000.]),\n",
       "  array([162000., 238000., 194000., 250000.]),\n",
       "  array([194000., 238000., 206000., 248000.]),\n",
       "  array([ 53000., 218000.,  66000., 225500.]),\n",
       "  array([ 66000., 218000.,  98000., 232000.]),\n",
       "  array([ 98000., 218000., 130000., 227000.]),\n",
       "  array([130000., 218000., 162000., 238000.]),\n",
       "  array([130000., 198000., 162000., 218000.]),\n",
       "  array([ 98000., 178000., 130000., 198000.])]}"
      ]
     },
     "execution_count": 11,
     "metadata": {},
     "output_type": "execute_result"
    }
   ],
   "source": [
    "data = load_data(DSM_path, DTM_path)\n",
    "data"
   ]
  },
  {
   "cell_type": "markdown",
   "metadata": {},
   "source": [
    "## Fetching the L_72 coordinates from the API with address"
   ]
  },
  {
   "cell_type": "code",
   "execution_count": null,
   "metadata": {},
   "outputs": [],
   "source": [
    "def fetch_coord(address:str)  -> Point:\n",
    "    pass"
   ]
  },
  {
   "cell_type": "code",
   "execution_count": 12,
   "metadata": {},
   "outputs": [],
   "source": [
    "coord = Point(104994.91, 192612.04)"
   ]
  },
  {
   "cell_type": "markdown",
   "metadata": {},
   "source": [
    "## Find the relevant GTiff file containing the coordinates"
   ]
  },
  {
   "cell_type": "code",
   "execution_count": 13,
   "metadata": {},
   "outputs": [],
   "source": [
    "def find_tif(data:dict, coord:Point) -> Tuple[str]:\n",
    "    x, y = coord.xy\n",
    "    for tif_index, bounds in enumerate(data['bounds']):\n",
    "        x_min, y_min, x_max, y_max = bounds\n",
    "        if (x_min < x < x_max) and (y_min < y < y_max):\n",
    "            return tif_index"
   ]
  },
  {
   "cell_type": "code",
   "execution_count": 14,
   "metadata": {},
   "outputs": [
    {
     "data": {
      "text/plain": [
       "8"
      ]
     },
     "execution_count": 14,
     "metadata": {},
     "output_type": "execute_result"
    }
   ],
   "source": [
    "tif_index = find_tif(data, coord)\n",
    "tif_index"
   ]
  },
  {
   "cell_type": "markdown",
   "metadata": {},
   "source": [
    "## Find the polygon containing the coordinates"
   ]
  },
  {
   "cell_type": "code",
   "execution_count": 15,
   "metadata": {},
   "outputs": [],
   "source": [
    "def find_polygon(coord:Point, shp_paths:List[str]):\n",
    "\n",
    "    for path in shp_paths:\n",
    "        try:\n",
    "            poly = gpd.read_file(path, mask=coord).geometry[0]\n",
    "            break\n",
    "        except:\n",
    "            continue\n",
    "    return poly"
   ]
  },
  {
   "cell_type": "code",
   "execution_count": 16,
   "metadata": {},
   "outputs": [
    {
     "data": {
      "image/svg+xml": [
       "<svg xmlns=\"http://www.w3.org/2000/svg\" xmlns:xlink=\"http://www.w3.org/1999/xlink\" width=\"100.0\" height=\"125.94991752004717\" viewBox=\"104951.04295886793 192532.0220207341 85.42873867429444 125.94991752004717\" preserveAspectRatio=\"xMinYMin meet\"><g transform=\"matrix(1,0,0,-1,0,385189.9939589882)\"><path fill-rule=\"evenodd\" fill=\"#66cc99\" stroke=\"#555555\" stroke-width=\"2.0\" opacity=\"0.6\" d=\"M 104977.14781190598,192652.9783747336 L 104977.38441226217,192652.97834693827 L 104977.37518447114,192652.75104660727 L 104979.0350700727,192652.61285075266 L 104979.07442807016,192653.08694908116 L 104988.05134983611,192652.33628986403 L 104988.02266315804,192651.62718881015 L 105002.89423522315,192650.39633412845 L 105002.9014235365,192651.1193377925 L 105012.54284758451,192650.37840056233 L 105012.76813231196,192652.7074886402 L 105015.43721706406,192652.54977411032 L 105015.43317830452,192652.23237260152 L 105015.4131893088,192650.68466528878 L 105022.26217118531,192650.45165926218 L 105022.29851973291,192649.2105472423 L 105025.08129600988,192648.9817189118 L 105025.08992776868,192649.24181952048 L 105025.87742733746,192649.22852692846 L 105025.94550829484,192651.52943330165 L 105025.95725696368,192651.92803440895 L 105028.29204363652,192651.7900592722 L 105028.15840639087,192649.84796284325 L 105031.80688578222,192649.63403290696 L 105030.17821995319,192600.77331903577 L 105029.2264394743,192581.28200911172 L 105031.18632746363,192581.15607805736 L 105029.58019438485,192541.57841956336 L 105025.40071367392,192540.97990691103 L 105018.89018791207,192540.04756606463 L 105004.01299724658,192541.16682110447 L 105003.67814951824,192536.6868324941 L 104989.30165315166,192537.7527283728 L 104989.63910195575,192542.23991670646 L 104969.71054182928,192543.68326727673 L 104963.45898577778,192544.1364046419 L 104963.49846142466,192544.75460385717 L 104963.69043001483,192547.76700006425 L 104955.70777062792,192549.0357459085 L 104955.84505928171,192551.39454446826 L 104956.60946177048,192564.48993622418 L 104957.00218664313,192571.23093207087 L 104966.00413703737,192570.6963710878 L 104965.70361791062,192565.63577486295 L 104965.50288113978,192562.0655762041 L 104965.19669986775,192557.31478257664 L 105018.67250837294,192553.32477453817 L 105019.54451270457,192575.46461031027 L 105017.0884167612,192575.5326993037 L 105017.06025183914,192579.09682486486 L 105015.2211597948,192579.18794151023 L 105015.97738831169,192600.7067870004 L 104967.83352491978,192603.29545929097 L 104967.53864614925,192598.5645644581 L 104969.2369298286,192598.4078639578 L 104967.88473106244,192576.34738534875 L 104966.34413633516,192576.41236675624 L 104966.19513059562,192573.91326869093 L 104957.19008028228,192574.4478300307 L 104958.1224355889,192590.42732002866 L 104958.69583805001,192600.254613881 L 104958.9702684891,192605.4074137425 L 104960.78280107534,192641.63962652348 L 104964.1609849796,192641.46552858874 L 104970.43705502356,192641.14148928877 L 104970.51742123114,192644.1365985144 L 104970.760118083,192653.10742591321 L 104970.7657425058,192653.30712649412 L 104977.14781190598,192652.9783747336 z M 104978.2747758443,192620.75564146135 L 104993.39051182065,192620.03376116324 L 104993.4105121098,192620.85446393304 L 104994.6014379129,192622.68743545935 L 104997.18652545492,192622.5517309159 L 104998.09837701175,192620.50581103005 L 104998.11728648478,192619.76440418325 L 105013.11218926034,192618.77163638175 L 105014.08555080186,192643.83357847948 L 104999.91133200524,192644.67574884184 L 104999.7423856793,192641.02364590485 L 104997.97747890759,192638.5343377078 L 104994.87070062749,192638.75140403304 L 104993.56053385761,192641.49577506632 L 104993.7473512506,192644.91027441807 L 104979.38324395953,192645.84826768003 L 104978.2747758443,192620.75564146135 z\" /></g></svg>"
      ],
      "text/plain": [
       "<shapely.geometry.polygon.Polygon at 0x132973ac0>"
      ]
     },
     "execution_count": 16,
     "metadata": {},
     "output_type": "execute_result"
    }
   ],
   "source": [
    "poly = find_polygon(coord, shp_paths)\n",
    "poly"
   ]
  },
  {
   "cell_type": "markdown",
   "metadata": {},
   "source": [
    "## Crop DSM & DTM"
   ]
  },
  {
   "cell_type": "code",
   "execution_count": 17,
   "metadata": {},
   "outputs": [],
   "source": [
    "def crop_tif(data, tif_index, poly, crop_method=\"bbox\") -> Tuple:\n",
    "        \n",
    "    DSM = rxr.open_rasterio(data['DSM_list'][tif_index],masked=True)\n",
    "    DTM = rxr.open_rasterio(data['DTM_list'][tif_index],masked=True)\n",
    "\n",
    "    if crop_method == \"bbox\":\n",
    "        left, bottom, right, top = poly.bounds\n",
    "        DSM_clip = DSM.rio.clip_box(left, bottom, right, top)\n",
    "        DTM_clip = DTM.rio.clip_box(left, bottom, right, top)\n",
    "\n",
    "    elif crop_method == \"points\":\n",
    "        DSM_clip = DSM.rio.clip(poly.__geo_interface__)\n",
    "        DTM_clip = DTM.rio.clip(poly.__geo_interface__)\n",
    "\n",
    "    else:\n",
    "        raise ValueError(\"crop_method only takes values 'bbox' or 'points'\")\n",
    "\n",
    "    return DSM_clip, DTM_clip"
   ]
  },
  {
   "cell_type": "code",
   "execution_count": 18,
   "metadata": {},
   "outputs": [
    {
     "data": {
      "text/plain": [
       "<matplotlib.collections.QuadMesh at 0x120f8a850>"
      ]
     },
     "execution_count": 18,
     "metadata": {},
     "output_type": "execute_result"
    },
    {
     "data": {
      "image/png": "[encoded data removed]",
      "text/plain": [
       "<Figure size 432x288 with 2 Axes>"
      ]
     },
     "metadata": {
      "needs_background": "light"
     },
     "output_type": "display_data"
    }
   ],
   "source": [
    "DSM_clip, DTM_clip = crop_tif(data, tif_index, poly)\n",
    "DSM_clip.plot()"
   ]
  },
  {
   "cell_type": "markdown",
   "metadata": {},
   "source": [
    "## Create CHM from DSM & DTM"
   ]
  },
  {
   "cell_type": "code",
   "execution_count": 19,
   "metadata": {},
   "outputs": [],
   "source": [
    "def CHMer(DSM_clip, \n",
    "          DTM_clip):\n",
    "    return DSM_clip - DTM_clip"
   ]
  },
  {
   "cell_type": "code",
   "execution_count": 20,
   "metadata": {},
   "outputs": [],
   "source": [
    "CHM = CHMer(DSM_clip, DTM_clip)"
   ]
  },
  {
   "cell_type": "markdown",
   "metadata": {},
   "source": [
    "## 3D Rendering"
   ]
  },
  {
   "cell_type": "code",
   "execution_count": 21,
   "metadata": {},
   "outputs": [],
   "source": [
    "def render_3D(CHM_clip):\n",
    "    arr = CHM_clip.squeeze().data\n",
    "    arr = np.pad(arr, [(2, ), (2, )], mode='constant')\n",
    "    mlab.figure(size=(640, 800), bgcolor=(0.16, 0.28, 0.46))\n",
    "    surf = mlab.surf(arr)\n",
    "    mlab.zlabel(\"Height\")\n",
    "    mlab.show()"
   ]
  },
  {
   "cell_type": "code",
   "execution_count": 22,
   "metadata": {},
   "outputs": [],
   "source": [
    "render_3D(CHM)"
   ]
  },
  {
   "cell_type": "code",
   "execution_count": null,
   "metadata": {},
   "outputs": [],
   "source": []
  },
  {
   "cell_type": "code",
   "execution_count": null,
   "metadata": {},
   "outputs": [],
   "source": []
  },
  {
   "cell_type": "code",
   "execution_count": null,
   "metadata": {},
   "outputs": [],
   "source": []
  }
 ],
 "metadata": {
  "kernelspec": {
   "display_name": "Python 3",
   "language": "python",
   "name": "python3"
  },
  "language_info": {
   "codemirror_mode": {
    "name": "ipython",
    "version": 3
   },
   "file_extension": ".py",
   "mimetype": "text/x-python",
   "name": "python",
   "nbconvert_exporter": "python",
   "pygments_lexer": "ipython3",
   "version": "3.8.4rc1"
  }
 },
 "nbformat": 4,
 "nbformat_minor": 4
}
