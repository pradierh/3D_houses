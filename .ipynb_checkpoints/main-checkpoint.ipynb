{
 "cells": [
  {
   "cell_type": "markdown",
   "metadata": {},
   "source": [
    "# 3D_HOUSES"
   ]
  },
  {
   "cell_type": "markdown",
   "metadata": {
    "tags": []
   },
   "source": [
    "## Import all libraries"
   ]
  },
  {
   "cell_type": "code",
   "execution_count": 1,
   "metadata": {
    "tags": []
   },
   "outputs": [],
   "source": [
    "from glob import glob\n",
    "from typing import Tuple, List\n",
    "import natsort\n",
    "import numpy as np\n",
    "import matplotlib.pyplot as plt\n",
    "import ipywidgets as widgets\n",
    "\n",
    "import geopandas as gpd\n",
    "import rasterio\n",
    "import rioxarray as rxr\n",
    "from shapely.geometry import Point, Polygon\n",
    "from shapely.ops import cascaded_union\n",
    "\n",
    "%matplotlib inline"
   ]
  },
  {
   "cell_type": "markdown",
   "metadata": {
    "tags": []
   },
   "source": [
    "## Widgets"
   ]
  },
  {
   "cell_type": "code",
   "execution_count": 2,
   "metadata": {
    "tags": []
   },
   "outputs": [],
   "source": [
    "dropdown = widgets.Dropdown(\n",
    "    options=['Sint-Pietersplein 9 Gent 9000', \n",
    "             'Sint-Pietersplein 16 Gent 9000', \n",
    "             'Lange Nieuwstraat 73 Antwerpen 2000'],\n",
    "    value='Sint-Pietersplein 9 Gent 9000',\n",
    "    description='Address:',\n",
    "    disabled=False,\n",
    ")\n",
    "\n",
    "button = widgets.Button(\n",
    "    description='3D Plot',\n",
    "    disabled=False,\n",
    "    button_style='info', # 'success', 'info', 'warning', 'danger' or ''\n",
    "    tooltip='Click me',\n",
    "    icon='check'\n",
    ")\n",
    "\n",
    "def main(b):\n",
    "    data = load_data(DSM_path, DTM_path)\n",
    "    tif_index = find_tif(data, coord)\n",
    "    poly = find_polygon(coord, shp_paths)\n",
    "    DSM_clip, DTM_clip = crop_tif(data, tif_index, poly, shape_cut=True)\n",
    "    CHM = CHMer(DSM_clip, DTM_clip)\n",
    "    render_3D(CHM)\n",
    "    \n",
    "button.on_click(main)\n",
    "\n",
    "items = [dropdown, button]"
   ]
  },
  {
   "cell_type": "markdown",
   "metadata": {},
   "source": [
    "## Paths"
   ]
  },
  {
   "cell_type": "code",
   "execution_count": 3,
   "metadata": {
    "tags": []
   },
   "outputs": [],
   "source": [
    "DSM_path = \"/Volumes/Samsung T7/DSM/**/*.tif\"\n",
    "DTM_path =  \"/Volumes/Samsung T7/DTM/**/*.tif\"\n",
    "\n",
    "shp_paths = [\"/Volumes/Samsung T7/CADASTRE DATA/Belgium_L72_2020/Bpn_CaBu.shp\", \"/Volumes/Samsung T7/CADASTRE DATA/Belgium_L72_2020/Bpn_ReBu.shp\"]"
   ]
  },
  {
   "cell_type": "markdown",
   "metadata": {},
   "source": [
    "## Create a dictionary of GTiff's paths and bounds"
   ]
  },
  {
   "cell_type": "code",
   "execution_count": 4,
   "metadata": {
    "tags": []
   },
   "outputs": [],
   "source": [
    "def load_data(DSM_path:str, DTM_path:str) -> dict:\n",
    "    \n",
    "    data = {}\n",
    "    data['DSM_list'] = natsort.natsorted([file for file in glob(DSM_path, recursive=True)])\n",
    "    data['DTM_list'] = natsort.natsorted([file for file in glob(DTM_path, recursive=True)])\n",
    "    data['bounds'] = []\n",
    "    \n",
    "    for path in data['DSM_list']:\n",
    "        with rasterio.open(path, driver=\"GTiff\") as tif:\n",
    "            data['bounds'].append(np.array(tif.bounds))\n",
    "\n",
    "    return data"
   ]
  },
  {
   "cell_type": "markdown",
   "metadata": {},
   "source": [
    "## Fetching the L_72 coordinates from the API with address"
   ]
  },
  {
   "cell_type": "code",
   "execution_count": 5,
   "metadata": {
    "tags": []
   },
   "outputs": [],
   "source": [
    "def fetch_coord(address:str)  -> Point:\n",
    "    pass"
   ]
  },
  {
   "cell_type": "code",
   "execution_count": 6,
   "metadata": {
    "tags": []
   },
   "outputs": [],
   "source": [
    "#coord = Point(104994.91, 192612.04) #https://loc.geopunt.be/v4/Location?q=Sint-Pietersplein%209,gent\n",
    "#coord = Point(104942.33, 192558.11) # https://loc.geopunt.be/v4/Location?q=Sint-Pietersplein%2016,gent\n",
    "#coord = Point(152898.38, 212199.67) # https://loc.geopunt.be/v4/Location?q=Lange%20Nieuwstraat%2073,Antwerpen\n",
    "coord = Point(104350.16, 194330.75) # https://loc.geopunt.be/v4/Location?q=Abrahamstraat%2015%20%209000%20%20Gent"
   ]
  },
  {
   "cell_type": "markdown",
   "metadata": {},
   "source": [
    "## Find the relevant GTiff file containing the coordinates"
   ]
  },
  {
   "cell_type": "code",
   "execution_count": 7,
   "metadata": {
    "tags": []
   },
   "outputs": [],
   "source": [
    "def find_tif(data:dict, coord:Point) -> Tuple[str]:\n",
    "    x, y = coord.xy\n",
    "    for tif_index, bounds in enumerate(data['bounds']):\n",
    "        x_min, y_min, x_max, y_max = bounds\n",
    "        if (x_min < x < x_max) and (y_min < y < y_max):\n",
    "            return tif_index"
   ]
  },
  {
   "cell_type": "markdown",
   "metadata": {},
   "source": [
    "## Find the polygon containing the coordinates"
   ]
  },
  {
   "cell_type": "code",
   "execution_count": 8,
   "metadata": {
    "tags": []
   },
   "outputs": [],
   "source": [
    "def find_polygon(coord:Point, shp_paths:List[str]):\n",
    "\n",
    "    for path in shp_paths:\n",
    "        try:\n",
    "            check_poly = gpd.read_file(path, mask=coord).geometry[0]\n",
    "            polys = [poly for poly in gpd.read_file(path, mask=coord).geometry]\n",
    "            poly = cascaded_union(polys)\n",
    "            break\n",
    "        except:\n",
    "            continue\n",
    "    return poly"
   ]
  },
  {
   "cell_type": "code",
   "execution_count": 9,
   "metadata": {
    "tags": []
   },
   "outputs": [],
   "source": [
    "#poly = find_polygon(coord, shp_paths)\n",
    "#poly"
   ]
  },
  {
   "cell_type": "markdown",
   "metadata": {},
   "source": [
    "## Crop DSM & DTM"
   ]
  },
  {
   "cell_type": "code",
   "execution_count": 10,
   "metadata": {
    "tags": []
   },
   "outputs": [],
   "source": [
    "def crop_tif(data, tif_index, poly, shape_cut=False):\n",
    "    \n",
    "    DSM = rxr.open_rasterio(data['DSM_list'][tif_index],masked=True)\n",
    "    DTM = rxr.open_rasterio(data['DTM_list'][tif_index],masked=True)\n",
    "\n",
    "    left, bottom, right, top = poly.bounds\n",
    "    DSM_clip = DSM.rio.clip_box(left, bottom, right, top)\n",
    "    DTM_clip = DTM.rio.clip_box(left, bottom, right, top)\n",
    "\n",
    "    if shape_cut:\n",
    "        DSM_clip = DSM_clip.rio.clip([poly.__geo_interface__])\n",
    "        DSM_clip = np.nan_to_num(DSM_clip, nan=0)\n",
    "\n",
    "        DTM_clip = DTM_clip.rio.clip([poly.__geo_interface__])\n",
    "        DTM_clip = np.nan_to_num(DTM_clip, nan=0)\n",
    "    \n",
    "    DSM.close()\n",
    "    DTM.close()\n",
    "    \n",
    "    return DSM_clip, DTM_clip"
   ]
  },
  {
   "cell_type": "code",
   "execution_count": 11,
   "metadata": {
    "tags": []
   },
   "outputs": [],
   "source": [
    "# DSM_clip, DTM_clip = crop_tif(data, tif_index, poly, shape_cut=False)"
   ]
  },
  {
   "cell_type": "markdown",
   "metadata": {},
   "source": [
    "## Create CHM from DSM & DTM"
   ]
  },
  {
   "cell_type": "code",
   "execution_count": 12,
   "metadata": {
    "tags": []
   },
   "outputs": [],
   "source": [
    "def CHMer(DSM_clip, \n",
    "          DTM_clip):\n",
    "    return DSM_clip - DTM_clip"
   ]
  },
  {
   "cell_type": "markdown",
   "metadata": {},
   "source": [
    "## Outputing property's information"
   ]
  },
  {
   "cell_type": "code",
   "execution_count": 13,
   "metadata": {
    "tags": []
   },
   "outputs": [
    {
     "ename": "NameError",
     "evalue": "name 'CHM' is not defined",
     "output_type": "error",
     "traceback": [
      "\u001b[0;31m---------------------------------------------------------------------------\u001b[0m",
      "\u001b[0;31mNameError\u001b[0m                                 Traceback (most recent call last)",
      "\u001b[0;32m<ipython-input-13-97653839efb5>\u001b[0m in \u001b[0;36m<module>\u001b[0;34m\u001b[0m\n\u001b[1;32m      1\u001b[0m \u001b[0mproperty\u001b[0m \u001b[0;34m=\u001b[0m \u001b[0;34m{\u001b[0m\u001b[0;34m}\u001b[0m\u001b[0;34m\u001b[0m\u001b[0;34m\u001b[0m\u001b[0m\n\u001b[0;32m----> 2\u001b[0;31m \u001b[0mproperty\u001b[0m\u001b[0;34m[\u001b[0m\u001b[0;34m\"Max_height\"\u001b[0m\u001b[0;34m]\u001b[0m \u001b[0;34m=\u001b[0m \u001b[0mnp\u001b[0m\u001b[0;34m.\u001b[0m\u001b[0mmax\u001b[0m\u001b[0;34m(\u001b[0m\u001b[0mCHM\u001b[0m\u001b[0;34m.\u001b[0m\u001b[0mdata\u001b[0m\u001b[0;34m)\u001b[0m\u001b[0;34m\u001b[0m\u001b[0;34m\u001b[0m\u001b[0m\n\u001b[0m\u001b[1;32m      3\u001b[0m \u001b[0mproperty\u001b[0m\u001b[0;34m[\u001b[0m\u001b[0;34m\"Estimated surface area\"\u001b[0m\u001b[0;34m]\u001b[0m \u001b[0;34m=\u001b[0m \u001b[0mpoly\u001b[0m\u001b[0;34m.\u001b[0m\u001b[0marea\u001b[0m \u001b[0;34m*\u001b[0m \u001b[0;36m0.7\u001b[0m \u001b[0;31m# Roughly 70% of built-area is living area https://www.quora.com/How-do-I-calculate-the-number-of-floors-to-be-built\u001b[0m\u001b[0;34m\u001b[0m\u001b[0;34m\u001b[0m\u001b[0m\n\u001b[1;32m      4\u001b[0m \u001b[0mproperty\u001b[0m\u001b[0;34m[\u001b[0m\u001b[0;34m\"Estimated Max number of floors\"\u001b[0m\u001b[0;34m]\u001b[0m \u001b[0;34m=\u001b[0m \u001b[0mint\u001b[0m\u001b[0;34m(\u001b[0m\u001b[0mproperty\u001b[0m\u001b[0;34m[\u001b[0m\u001b[0;34m\"Max_height\"\u001b[0m\u001b[0;34m]\u001b[0m \u001b[0;34m/\u001b[0m \u001b[0;36m3.3\u001b[0m\u001b[0;34m)\u001b[0m\u001b[0;34m\u001b[0m\u001b[0;34m\u001b[0m\u001b[0m\n\u001b[1;32m      5\u001b[0m \u001b[0mproperty\u001b[0m\u001b[0;34m[\u001b[0m\u001b[0;34m\"Upper limit of living area\"\u001b[0m\u001b[0;34m]\u001b[0m \u001b[0;34m=\u001b[0m \u001b[0mproperty\u001b[0m\u001b[0;34m[\u001b[0m\u001b[0;34m\"Estimated Max number of floors\"\u001b[0m\u001b[0;34m]\u001b[0m \u001b[0;34m*\u001b[0m \u001b[0mproperty\u001b[0m\u001b[0;34m[\u001b[0m\u001b[0;34m\"Estimated surface area\"\u001b[0m\u001b[0;34m]\u001b[0m\u001b[0;34m\u001b[0m\u001b[0;34m\u001b[0m\u001b[0m\n",
      "\u001b[0;31mNameError\u001b[0m: name 'CHM' is not defined"
     ]
    }
   ],
   "source": [
    "#property = {}\n",
    "#property[\"Max_height\"] = np.max(CHM.data)\n",
    "#property[\"Estimated surface area\"] = poly.area * 0.7 # Roughly 70% of built-area is living area https://www.quora.com/How-do-I-calculate-the-number-of-floors-to-be-built\n",
    "#property[\"Estimated Max number of floors\"] = int(property[\"Max_height\"] / 3.3)\n",
    "#property[\"Upper limit of living area\"] = property[\"Estimated Max number of floors\"] * property[\"Estimated surface area\"]\n",
    "#property"
   ]
  },
  {
   "cell_type": "markdown",
   "metadata": {},
   "source": [
    "## 3D Rendering"
   ]
  },
  {
   "cell_type": "code",
   "execution_count": null,
   "metadata": {
    "tags": []
   },
   "outputs": [],
   "source": [
    "from mayavi import mlab"
   ]
  },
  {
   "cell_type": "code",
   "execution_count": null,
   "metadata": {
    "tags": []
   },
   "outputs": [],
   "source": [
    "def render_3D(CHM_clip):\n",
    "    arr = CHM_clip.squeeze().data\n",
    "    arr = np.pad(arr, [(2, ), (2, )], mode='constant')\n",
    "    mlab.figure(size=(640, 800), bgcolor=(0.16, 0.28, 0.46))\n",
    "    surf = mlab.surf(arr)\n",
    "    mlab.zlabel(\"Height\")\n",
    "    mlab.show()"
   ]
  },
  {
   "cell_type": "markdown",
   "metadata": {},
   "source": [
    "## 3D Rendering inline"
   ]
  },
  {
   "cell_type": "code",
   "execution_count": null,
   "metadata": {
    "tags": []
   },
   "outputs": [],
   "source": [
    "# from mayavi import mlab"
   ]
  },
  {
   "cell_type": "code",
   "execution_count": null,
   "metadata": {
    "tags": []
   },
   "outputs": [],
   "source": [
    "#mlab.init_notebook()\n",
    "#def render_3D_inline(CHM_clip):\n",
    "#    arr = CHM_clip.squeeze().data\n",
    "#    arr = np.pad(arr, [(2, ), (2, )], mode='constant')\n",
    "#    mlab.figure(size=(640, 800), bgcolor=(0.16, 0.28, 0.46))\n",
    "#    surf = mlab.surf(arr)\n",
    "#    mlab.zlabel(\"Height\")\n",
    "#    return surf"
   ]
  },
  {
   "cell_type": "markdown",
   "metadata": {
    "tags": []
   },
   "source": [
    "## Showcasing MVP"
   ]
  },
  {
   "cell_type": "code",
   "execution_count": 103,
   "metadata": {
    "tags": []
   },
   "outputs": [
    {
     "data": {
      "application/vnd.jupyter.widget-view+json": {
       "model_id": "3dc0adaae5ed4cbb88d1bc3cef8c5637",
       "version_major": 2,
       "version_minor": 0
      },
      "text/plain": [
       "Box(children=(Dropdown(description='Address:', options=('Sint-Pietersplein 9 Gent 9000', 'Sint-Pietersplein 16…"
      ]
     },
     "metadata": {},
     "output_type": "display_data"
    }
   ],
   "source": [
    "widgets.Box(items)"
   ]
  },
  {
   "cell_type": "code",
   "execution_count": null,
   "metadata": {},
   "outputs": [],
   "source": []
  }
 ],
 "metadata": {
  "kernelspec": {
   "display_name": "Python 3",
   "language": "python",
   "name": "python3"
  },
  "language_info": {
   "codemirror_mode": {
    "name": "ipython",
    "version": 3
   },
   "file_extension": ".py",
   "mimetype": "text/x-python",
   "name": "python",
   "nbconvert_exporter": "python",
   "pygments_lexer": "ipython3",
   "version": "3.8.4rc1"
  }
 },
 "nbformat": 4,
 "nbformat_minor": 4
}
