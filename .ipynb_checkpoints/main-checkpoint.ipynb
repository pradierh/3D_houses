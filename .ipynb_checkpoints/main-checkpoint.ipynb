{
 "cells": [
  {
   "cell_type": "markdown",
   "metadata": {},
   "source": [
    "# 3D_HOUSES"
   ]
  },
  {
   "cell_type": "markdown",
   "metadata": {
    "tags": []
   },
   "source": [
    "## Import all libraries"
   ]
  },
  {
   "cell_type": "code",
   "execution_count": 10,
   "metadata": {
    "tags": []
   },
   "outputs": [],
   "source": [
    "from glob import glob\n",
    "from typing import Tuple, List\n",
    "import natsort\n",
    "import numpy as np\n",
    "import matplotlib.pyplot as plt\n",
    "import ipywidgets as widgets\n",
    "\n",
    "import json\n",
    "import requests\n",
    "\n",
    "import geopandas as gpd\n",
    "import rasterio\n",
    "import rioxarray as rxr\n",
    "from shapely.geometry import Point, Polygon\n",
    "from shapely.ops import cascaded_union\n",
    "\n",
    "%matplotlib inline"
   ]
  },
  {
   "cell_type": "markdown",
   "metadata": {
    "tags": []
   },
   "source": [
    "## Widgets"
   ]
  },
  {
   "cell_type": "code",
   "execution_count": 2,
   "metadata": {
    "tags": []
   },
   "outputs": [],
   "source": [
    "dropdown = widgets.Dropdown(\n",
    "    options=['Sint-Pietersplein 9 Gent 9000', \n",
    "             'Sint-Pietersplein 16 Gent 9000', \n",
    "             'Lange Nieuwstraat 73 Antwerpen 2000'],\n",
    "    value='Sint-Pietersplein 9 Gent 9000',\n",
    "    description='Address:',\n",
    "    disabled=False,\n",
    ")\n",
    "\n",
    "button = widgets.Button(\n",
    "    description='3D Plot',\n",
    "    disabled=False,\n",
    "    button_style='info', # 'success', 'info', 'warning', 'danger' or ''\n",
    "    tooltip='Click me',\n",
    "    icon='check'\n",
    ")\n",
    "\n",
    "def main(b):\n",
    "    data = load_data(DSM_path, DTM_path)\n",
    "    tif_index = find_tif(data, coord)\n",
    "    poly = find_polygon(coord, shp_paths)\n",
    "    DSM_clip, DTM_clip = crop_tif(data, tif_index, poly, shape_cut=True)\n",
    "    CHM = CHMer(DSM_clip, DTM_clip)\n",
    "    render_3D(CHM)\n",
    "    \n",
    "button.on_click(main)\n",
    "\n",
    "items = [dropdown, button]"
   ]
  },
  {
   "cell_type": "markdown",
   "metadata": {},
   "source": [
    "## Paths"
   ]
  },
  {
   "cell_type": "code",
   "execution_count": 3,
   "metadata": {
    "tags": []
   },
   "outputs": [],
   "source": [
    "DSM_path = \"/Volumes/Samsung T7/DSM/**/*.tif\"\n",
    "DTM_path =  \"/Volumes/Samsung T7/DTM/**/*.tif\"\n",
    "\n",
    "shp_paths = [\"/Volumes/Samsung T7/CADASTRE DATA/Belgium_L72_2020/Bpn_CaBu.shp\", \"/Volumes/Samsung T7/CADASTRE DATA/Belgium_L72_2020/Bpn_ReBu.shp\"]"
   ]
  },
  {
   "cell_type": "markdown",
   "metadata": {},
   "source": [
    "## Create a dictionary of GTiff's paths and bounds"
   ]
  },
  {
   "cell_type": "code",
   "execution_count": 4,
   "metadata": {
    "tags": []
   },
   "outputs": [],
   "source": [
    "def load_data(DSM_path:str, DTM_path:str) -> dict:\n",
    "    \n",
    "    data = {}\n",
    "    data['DSM_list'] = natsort.natsorted([file for file in glob(DSM_path, recursive=True)])\n",
    "    data['DTM_list'] = natsort.natsorted([file for file in glob(DTM_path, recursive=True)])\n",
    "    data['bounds'] = []\n",
    "    \n",
    "    for path in data['DSM_list']:\n",
    "        with rasterio.open(path, driver=\"GTiff\") as tif:\n",
    "            data['bounds'].append(np.array(tif.bounds))\n",
    "\n",
    "    return data"
   ]
  },
  {
   "cell_type": "code",
   "execution_count": 5,
   "metadata": {},
   "outputs": [
    {
     "data": {
      "text/plain": [
       "{'DSM_list': ['/Volumes/Samsung T7/DSM/DHMVIIDSMRAS1m_k01/GeoTIFF/DHMVIIDSMRAS1m_k01.tif',\n",
       "  '/Volumes/Samsung T7/DSM/DHMVIIDSMRAS1m_k02/GeoTIFF/DHMVIIDSMRAS1m_k02.tif',\n",
       "  '/Volumes/Samsung T7/DSM/DHMVIIDSMRAS1m_k03/GeoTIFF/DHMVIIDSMRAS1m_k03.tif',\n",
       "  '/Volumes/Samsung T7/DSM/DHMVIIDSMRAS1m_k04/GeoTIFF/DHMVIIDSMRAS1m_k04.tif',\n",
       "  '/Volumes/Samsung T7/DSM/DHMVIIDSMRAS1m_k05/GeoTIFF/DHMVIIDSMRAS1m_k05.tif',\n",
       "  '/Volumes/Samsung T7/DSM/DHMVIIDSMRAS1m_k06/GeoTIFF/DHMVIIDSMRAS1m_k06.tif',\n",
       "  '/Volumes/Samsung T7/DSM/DHMVIIDSMRAS1m_k07/GeoTIFF/DHMVIIDSMRAS1m_k07.tif',\n",
       "  '/Volumes/Samsung T7/DSM/DHMVIIDSMRAS1m_k15/GeoTIFF/DHMVIIDSMRAS1m_k15.tif',\n",
       "  '/Volumes/Samsung T7/DSM/DHMVIIDSMRAS1m_k22/GeoTIFF/DHMVIIDSMRAS1m_k22.tif'],\n",
       " 'DTM_list': ['/Volumes/Samsung T7/DTM/DHMVIIDTMRAS1m_k01/GeoTIFF/DHMVIIDTMRAS1m_k01.tif',\n",
       "  '/Volumes/Samsung T7/DTM/DHMVIIDTMRAS1m_k02/GeoTIFF/DHMVIIDTMRAS1m_k02.tif',\n",
       "  '/Volumes/Samsung T7/DTM/DHMVIIDTMRAS1m_k03/GeoTIFF/DHMVIIDTMRAS1m_k03.tif',\n",
       "  '/Volumes/Samsung T7/DTM/DHMVIIDTMRAS1m_k04/GeoTIFF/DHMVIIDTMRAS1m_k04.tif',\n",
       "  '/Volumes/Samsung T7/DTM/DHMVIIDTMRAS1m_k05/GeoTIFF/DHMVIIDTMRAS1m_k05.tif',\n",
       "  '/Volumes/Samsung T7/DTM/DHMVIIDTMRAS1m_k06/GeoTIFF/DHMVIIDTMRAS1m_k06.tif',\n",
       "  '/Volumes/Samsung T7/DTM/DHMVIIDTMRAS1m_k07/GeoTIFF/DHMVIIDTMRAS1m_k07.tif',\n",
       "  '/Volumes/Samsung T7/DTM/DHMVIIDTMRAS1m_k15/GeoTIFF/DHMVIIDTMRAS1m_k15.tif',\n",
       "  '/Volumes/Samsung T7/DTM/DHMVIIDTMRAS1m_k22/GeoTIFF/DHMVIIDTMRAS1m_k22.tif'],\n",
       " 'bounds': [array([145000., 238000., 162000., 247000.]),\n",
       "  array([162000., 238000., 194000., 250000.]),\n",
       "  array([194000., 238000., 206000., 248000.]),\n",
       "  array([ 53000., 218000.,  66000., 225500.]),\n",
       "  array([ 66000., 218000.,  98000., 232000.]),\n",
       "  array([ 98000., 218000., 130000., 227000.]),\n",
       "  array([130000., 218000., 162000., 238000.]),\n",
       "  array([130000., 198000., 162000., 218000.]),\n",
       "  array([ 98000., 178000., 130000., 198000.])]}"
      ]
     },
     "execution_count": 5,
     "metadata": {},
     "output_type": "execute_result"
    }
   ],
   "source": [
    "data = load_data(DSM_path, DTM_path)\n",
    "data"
   ]
  },
  {
   "cell_type": "markdown",
   "metadata": {},
   "source": [
    "## Fetching the L_72 coordinates from the API with address [CEREN]"
   ]
  },
  {
   "cell_type": "code",
   "execution_count": 7,
   "metadata": {},
   "outputs": [],
   "source": [
    "#address = input('Please enter an address:')\n",
    "address = \"Kaasmarkt 147, 1780 Wemmel\""
   ]
  },
  {
   "cell_type": "code",
   "execution_count": 8,
   "metadata": {
    "tags": []
   },
   "outputs": [],
   "source": [
    "def fetch_coord(address:str)  -> Point:\n",
    "    \n",
    "    response = requests.get(f\"https://loc.geopunt.be/v4/location?q={address}\")\n",
    "    data = json.loads(response.content)\n",
    "    \n",
    "    long_x_lambert72 = data['LocationResult'][0]['Location']['X_Lambert72']\n",
    "    lat_y_lambert72 = data['LocationResult'][0]['Location']['Y_Lambert72']\n",
    "    \n",
    "    return float(long_x_lambert72),float(lat_y_lambert72)"
   ]
  },
  {
   "cell_type": "code",
   "execution_count": 13,
   "metadata": {},
   "outputs": [
    {
     "data": {
      "text/plain": [
       "(145287.69, 177317.27)"
      ]
     },
     "execution_count": 13,
     "metadata": {},
     "output_type": "execute_result"
    }
   ],
   "source": [
    "coord = fetch_coord(address)\n",
    "coord"
   ]
  },
  {
   "cell_type": "code",
   "execution_count": 6,
   "metadata": {
    "tags": []
   },
   "outputs": [],
   "source": [
    "#coord = Point(104994.91, 192612.04) #https://loc.geopunt.be/v4/Location?q=Sint-Pietersplein%209,gent\n",
    "#coord = Point(104942.33, 192558.11) # https://loc.geopunt.be/v4/Location?q=Sint-Pietersplein%2016,gent\n",
    "coord = Point(152898.38, 212199.67) # https://loc.geopunt.be/v4/Location?q=Lange%20Nieuwstraat%2073,Antwerpen\n",
    "#coord = Point(104350.16, 194330.75) # https://loc.geopunt.be/v4/Location?q=Abrahamstraat%2015%20%209000%20%20Gent"
   ]
  },
  {
   "cell_type": "markdown",
   "metadata": {},
   "source": [
    "## Find the relevant GTiff file containing the coordinates"
   ]
  },
  {
   "cell_type": "code",
   "execution_count": 7,
   "metadata": {
    "tags": []
   },
   "outputs": [],
   "source": [
    "def find_tif(data:dict, coord:Point) -> Tuple[str]:\n",
    "    x, y = coord.xy\n",
    "    for tif_index, bounds in enumerate(data['bounds']):\n",
    "        x_min, y_min, x_max, y_max = bounds\n",
    "        if (x_min < x < x_max) and (y_min < y < y_max):\n",
    "            return tif_index"
   ]
  },
  {
   "cell_type": "code",
   "execution_count": 8,
   "metadata": {},
   "outputs": [
    {
     "data": {
      "text/plain": [
       "7"
      ]
     },
     "execution_count": 8,
     "metadata": {},
     "output_type": "execute_result"
    }
   ],
   "source": [
    "tif_index = find_tif(data, coord)\n",
    "tif_index"
   ]
  },
  {
   "cell_type": "markdown",
   "metadata": {},
   "source": [
    "## Find the polygon containing the coordinates"
   ]
  },
  {
   "cell_type": "code",
   "execution_count": 9,
   "metadata": {
    "tags": []
   },
   "outputs": [],
   "source": [
    "def find_polygon(coord:Point, shp_paths:List[str]):\n",
    "\n",
    "    for path in shp_paths:\n",
    "        try:\n",
    "            check_poly = gpd.read_file(path, mask=coord).geometry[0]\n",
    "            polys = [poly for poly in gpd.read_file(path, mask=coord).geometry]\n",
    "            poly = cascaded_union(polys)\n",
    "            break\n",
    "        except:\n",
    "            continue\n",
    "    return poly"
   ]
  },
  {
   "cell_type": "code",
   "execution_count": 10,
   "metadata": {
    "tags": []
   },
   "outputs": [
    {
     "data": {
      "image/svg+xml": [
       "<svg xmlns=\"http://www.w3.org/2000/svg\" xmlns:xlink=\"http://www.w3.org/1999/xlink\" width=\"112.9975265134417\" height=\"100.0\" viewBox=\"152861.8977170532 212184.5718119085 112.9975265134417 95.06716165668331\" preserveAspectRatio=\"xMinYMin meet\"><g transform=\"matrix(1,0,0,-1,0,424464.2107854737)\"><path fill-rule=\"evenodd\" fill=\"#66cc99\" stroke=\"#555555\" stroke-width=\"2.0\" opacity=\"0.6\" d=\"M 152903.13084396717,212209.5300282603 L 152900.38035679955,212201.44888659753 L 152901.5970498744,212202.1514491858 L 152904.7291891807,212201.44997522887 L 152905.0373285486,212200.9240347594 L 152902.7719689738,212188.8640040066 L 152902.75205601196,212188.75690548308 L 152891.92301898389,212190.79099523462 L 152895.2419293054,212204.88111845776 L 152895.64463686905,212206.59108487703 L 152894.09948632488,212207.10027067084 L 152892.3552421731,212207.6751804063 L 152893.76119968243,212212.24805191252 L 152897.49037832965,212224.37661109585 L 152891.00767607556,212226.4307899354 L 152891.15044012244,212226.95727738552 L 152892.0191299121,212230.16160105076 L 152886.22769239012,212231.87799588032 L 152885.88926451234,212230.83012723457 L 152885.03419416022,212231.13083020318 L 152884.63800789777,212231.27017791104 L 152884.94532120813,212232.1982492525 L 152879.66278712358,212233.91178421583 L 152879.35184914802,212232.77781164553 L 152878.3068855751,212233.14693749696 L 152877.78468829807,212231.530385877 L 152877.36470237424,212231.67403641995 L 152872.28247280637,212233.41294803843 L 152872.51027031784,212234.21382770594 L 152867.34487435358,212236.23865140323 L 152866.68300050337,212236.49813131895 L 152867.16717634548,212237.93778598495 L 152866.08281062776,212238.29141634237 L 152866.44054749777,212239.41318330914 L 152867.54901499912,212239.07305022795 L 152868.47305056662,212241.820463703 L 152867.31738264902,212242.16010233387 L 152867.58910970273,212243.20517879725 L 152867.64413549853,212243.41737403814 L 152868.90730829551,212243.11192304175 L 152870.86671985034,212248.9378395658 L 152867.92700905591,212249.86509271152 L 152868.29395090792,212251.02795892954 L 152867.82500692876,212251.52511807438 L 152867.9759465449,212251.846902919 L 152868.00798914736,212252.20100200363 L 152868.74501733485,212252.39101686608 L 152869.18396422625,212251.92006145883 L 152872.21406853342,212250.9329972053 L 152874.58095549702,212258.199977424 L 152871.40605575035,212259.23395908345 L 152870.72195070254,212259.23403952457 L 152870.23591075602,212259.76600096375 L 152870.3990484563,212260.0709842369 L 152870.44199053865,212260.42008199822 L 152871.03991337758,212260.5740129305 L 152871.4819791207,212261.9319718862 L 152874.32798920976,212261.0047297608 L 152875.9094099415,212266.93099153787 L 152874.93553407586,212267.19280816428 L 152875.14584489664,212268.10609078966 L 152875.2788149128,212268.68307980336 L 152876.29918758376,212268.39165747352 L 152877.09985253384,212271.39248749707 L 152876.30877892164,212271.6618826855 L 152876.61522986388,212272.90455665998 L 152877.71699597765,212272.55332427938 L 152877.94221997084,212273.57580603287 L 152878.48360351328,212273.4048409909 L 152879.1427535356,212275.45387999061 L 152885.0071929968,212273.75017667562 L 152884.57424409586,212271.6965110423 L 152884.2997862609,212270.39423282724 L 152884.94936733466,212270.19595484715 L 152888.79585527856,212269.02189308777 L 152890.3501099926,212268.54740650393 L 152894.80928007976,212267.1862711925 L 152896.23843844273,212266.7499996256 L 152901.68847965583,212265.08624536172 L 152901.69317952055,212265.08484479692 L 152902.14636633336,212264.94659039378 L 152903.7286202401,212264.4636004502 L 152909.24285959237,212262.78023847844 L 152909.52805128723,212262.6932042446 L 152909.71092005007,212263.2566872798 L 152910.78122250515,212266.55478798877 L 152911.91024702156,212270.03368325438 L 152913.50668677787,212269.43159068096 L 152914.79303825676,212268.9465355128 L 152917.78772528542,212267.81727427617 L 152919.82264850524,212267.04982881062 L 152924.8005607302,212265.17272834573 L 152925.7793868632,212267.83863471728 L 152924.03303739204,212268.36884434335 L 152924.33075834278,212269.36161733232 L 152926.16791629622,212268.89669755567 L 152926.5032280237,212269.80996548198 L 152927.42449402867,212269.46895440575 L 152927.06866314093,212268.39668761194 L 152933.2735759556,212266.44874229468 L 152936.14318939447,212265.54789760336 L 152936.84336855044,212265.33041351847 L 152937.49314920933,212265.12863548473 L 152940.98244539788,212264.0452164607 L 152943.29617399012,212263.30533842836 L 152943.5491827046,212264.19861587416 L 152944.03336952932,212264.0585578112 L 152944.48555723278,212263.92780358624 L 152944.26224666456,212263.01722250972 L 152946.46219108993,212262.41675898246 L 152951.39736642584,212261.0696678143 L 152949.82046799094,212254.49180025328 L 152948.95542999296,212250.8833729066 L 152953.69659528384,212249.46410396788 L 152958.66415415288,212247.97700785846 L 152959.20246425006,212248.0281449724 L 152959.36292180914,212246.82731642853 L 152962.0535412872,212246.82380001713 L 152962.4590237984,212246.65255095623 L 152963.35143023366,212245.8150392752 L 152964.46661331097,212244.76849971432 L 152965.38429886752,212245.42709710728 L 152965.54835166145,212245.0222745547 L 152965.78988213575,212244.42604135163 L 152964.87532905114,212244.03874577023 L 152964.96780682405,212241.33891315106 L 152965.97627711194,212241.0280920621 L 152965.8297573062,212240.03550129384 L 152964.71599746498,212240.44013551902 L 152962.65963688167,212238.3886607997 L 152964.63958469516,212231.97717633937 L 152967.2402501225,212231.52716690302 L 152968.41502799955,212232.10553342383 L 152969.78010288248,212231.81107053254 L 152968.2676386402,212230.53143807594 L 152969.43158513223,212228.33978355303 L 152970.6350922294,212228.3245419152 L 152970.71014999205,212227.13062347285 L 152969.58684585494,212227.16565584298 L 152968.89363637654,212224.62101686 L 152969.67337096267,212224.02582037542 L 152969.08776018093,212223.13578206487 L 152968.40842867445,212223.75056689978 L 152966.09678200926,212222.66742999945 L 152966.24204025476,212221.47320330236 L 152967.36022956384,212219.64235706534 L 152960.01961550704,212213.2908690814 L 152958.58964740028,212211.13791988883 L 152957.3617165179,212205.9394224072 L 152956.1795091304,212200.93452110887 L 152955.84113528294,212199.5020493595 L 152948.3728786964,212201.16414092947 L 152950.75337257268,212212.67005368602 L 152948.87692323286,212214.04588541482 L 152947.70183402515,212213.37291817367 L 152945.01625244238,212201.98884227406 L 152937.73889538643,212203.63511127047 L 152936.9459568262,212200.85388210788 L 152919.3235599998,212206.15279698 L 152920.71694858407,212210.98667206801 L 152903.10717418382,212216.4711869508 L 152902.91228716413,212215.75590410735 L 152902.45980291048,212215.915558598 L 152900.80234766853,212210.5411102092 L 152900.70741010216,212210.2330188919 L 152903.13084396717,212209.5300282603 z\" /></g></svg>"
      ],
      "text/plain": [
       "<shapely.geometry.polygon.Polygon at 0x110bbdf40>"
      ]
     },
     "execution_count": 10,
     "metadata": {},
     "output_type": "execute_result"
    }
   ],
   "source": [
    "poly = find_polygon(coord, shp_paths)\n",
    "poly"
   ]
  },
  {
   "cell_type": "markdown",
   "metadata": {},
   "source": [
    "## Crop DSM & DTM"
   ]
  },
  {
   "cell_type": "code",
   "execution_count": 22,
   "metadata": {
    "tags": []
   },
   "outputs": [],
   "source": [
    "def crop_tif(data, tif_index, poly, shape_cut=True):\n",
    "    \n",
    "    DSM = rxr.open_rasterio(data['DSM_list'][tif_index],masked=True)\n",
    "    DTM = rxr.open_rasterio(data['DTM_list'][tif_index],masked=True)\n",
    "\n",
    "    left, bottom, right, top = poly.bounds\n",
    "    DSM_clip = DSM.rio.clip_box(left, bottom, right, top)\n",
    "    DTM_clip = DTM.rio.clip_box(left, bottom, right, top)\n",
    "\n",
    "    if shape_cut:\n",
    "        DSM_clip = DSM_clip.rio.clip([poly.__geo_interface__])\n",
    "        DSM_clip = np.nan_to_num(DSM_clip, nan=0)\n",
    "\n",
    "        DTM_clip = DTM_clip.rio.clip([poly.__geo_interface__])\n",
    "        DTM_clip = np.nan_to_num(DTM_clip, nan=0)\n",
    "    \n",
    "    DSM.close()\n",
    "    DTM.close()\n",
    "    \n",
    "    return DSM_clip, DTM_clip"
   ]
  },
  {
   "cell_type": "code",
   "execution_count": 23,
   "metadata": {
    "tags": []
   },
   "outputs": [],
   "source": [
    "DSM_clip, DTM_clip = crop_tif(data, tif_index, poly, shape_cut=True)"
   ]
  },
  {
   "cell_type": "markdown",
   "metadata": {},
   "source": [
    "## Create CHM from DSM & DTM"
   ]
  },
  {
   "cell_type": "code",
   "execution_count": 24,
   "metadata": {
    "tags": []
   },
   "outputs": [],
   "source": [
    "def CHMer(DSM_clip, \n",
    "          DTM_clip):\n",
    "    return DSM_clip - DTM_clip"
   ]
  },
  {
   "cell_type": "code",
   "execution_count": 25,
   "metadata": {},
   "outputs": [],
   "source": [
    "CHM = CHMer(DSM_clip, DTM_clip)"
   ]
  },
  {
   "cell_type": "markdown",
   "metadata": {},
   "source": [
    "## Outputing property's information [ATEFEH]"
   ]
  },
  {
   "cell_type": "code",
   "execution_count": 26,
   "metadata": {
    "tags": []
   },
   "outputs": [
    {
     "data": {
      "text/plain": [
       "{'Max_height': 56.70922,\n",
       " 'Estimated surface area': 3454.7271749190404,\n",
       " 'Estimated Max number of floors': 17,\n",
       " 'Upper limit of living area': 58730.36197362369}"
      ]
     },
     "execution_count": 26,
     "metadata": {},
     "output_type": "execute_result"
    }
   ],
   "source": [
    "property = {}\n",
    "property[\"Max_height\"] = np.max(CHM.data)\n",
    "property[\"Estimated surface area\"] = poly.area * 0.7 # Roughly 70% of built-area is living area https://www.quora.com/How-do-I-calculate-the-number-of-floors-to-be-built\n",
    "property[\"Estimated Max number of floors\"] = int(property[\"Max_height\"] / 3.3)\n",
    "property[\"Upper limit of living area\"] = property[\"Estimated Max number of floors\"] * property[\"Estimated surface area\"]\n",
    "property"
   ]
  },
  {
   "cell_type": "markdown",
   "metadata": {},
   "source": [
    "## 3D Rendering [CORENTIN]"
   ]
  },
  {
   "cell_type": "code",
   "execution_count": 27,
   "metadata": {
    "tags": []
   },
   "outputs": [],
   "source": [
    "from mayavi import mlab"
   ]
  },
  {
   "cell_type": "code",
   "execution_count": 28,
   "metadata": {
    "tags": []
   },
   "outputs": [],
   "source": [
    "def render_3D(CHM_clip):\n",
    "    arr = CHM_clip.squeeze().data\n",
    "    arr = np.pad(arr, [(2, ), (2, )], mode='constant')\n",
    "    mlab.figure(size=(640, 800), bgcolor=(0.16, 0.28, 0.46))\n",
    "    surf = mlab.surf(arr)\n",
    "    mlab.zlabel(\"Height\")\n",
    "    mlab.show()"
   ]
  },
  {
   "cell_type": "markdown",
   "metadata": {},
   "source": [
    "## 3D Rendering [HUGO]"
   ]
  },
  {
   "cell_type": "code",
   "execution_count": null,
   "metadata": {},
   "outputs": [],
   "source": [
    "def render_3D(CHM_clip):\n",
    "    arr = CHM_clip.squeeze().data\n",
    "    arr = np.pad(arr, [(2, ), (2, )], mode='constant')\n",
    "    mlab.figure(size=(640, 800), bgcolor=(0.16, 0.28, 0.46))\n",
    "    surf = mlab.surf(arr)\n",
    "    mlab.zlabel(\"Height\")\n",
    "    mlab.show()"
   ]
  },
  {
   "cell_type": "markdown",
   "metadata": {},
   "source": [
    "## 3D Rendering inline"
   ]
  },
  {
   "cell_type": "code",
   "execution_count": 16,
   "metadata": {
    "tags": []
   },
   "outputs": [],
   "source": [
    "# from mayavi import mlab"
   ]
  },
  {
   "cell_type": "code",
   "execution_count": 17,
   "metadata": {
    "tags": []
   },
   "outputs": [],
   "source": [
    "#mlab.init_notebook()\n",
    "#def render_3D_inline(CHM_clip):\n",
    "#    arr = CHM_clip.squeeze().data\n",
    "#    arr = np.pad(arr, [(2, ), (2, )], mode='constant')\n",
    "#    mlab.figure(size=(640, 800), bgcolor=(0.16, 0.28, 0.46))\n",
    "#    surf = mlab.surf(arr)\n",
    "#    mlab.zlabel(\"Height\")\n",
    "#    return surf"
   ]
  },
  {
   "cell_type": "markdown",
   "metadata": {
    "tags": []
   },
   "source": [
    "## Showcasing MVP"
   ]
  },
  {
   "cell_type": "code",
   "execution_count": 29,
   "metadata": {
    "tags": []
   },
   "outputs": [
    {
     "data": {
      "application/vnd.jupyter.widget-view+json": {
       "model_id": "d23cf2afe85749f28b90e5d4571dc70d",
       "version_major": 2,
       "version_minor": 0
      },
      "text/plain": [
       "Box(children=(Dropdown(description='Address:', options=('Sint-Pietersplein 9 Gent 9000', 'Sint-Pietersplein 16…"
      ]
     },
     "metadata": {},
     "output_type": "display_data"
    }
   ],
   "source": [
    "widgets.Box(items)"
   ]
  },
  {
   "cell_type": "code",
   "execution_count": null,
   "metadata": {},
   "outputs": [],
   "source": []
  }
 ],
 "metadata": {
  "kernelspec": {
   "display_name": "Python 3",
   "language": "python",
   "name": "python3"
  },
  "language_info": {
   "codemirror_mode": {
    "name": "ipython",
    "version": 3
   },
   "file_extension": ".py",
   "mimetype": "text/x-python",
   "name": "python",
   "nbconvert_exporter": "python",
   "pygments_lexer": "ipython3",
   "version": "3.8.3"
  }
 },
 "nbformat": 4,
 "nbformat_minor": 4
}
